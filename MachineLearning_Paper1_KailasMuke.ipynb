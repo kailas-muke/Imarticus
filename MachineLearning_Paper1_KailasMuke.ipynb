{
 "cells": [
  {
   "cell_type": "markdown",
   "id": "0316dcd0",
   "metadata": {},
   "source": [
    "<b>Machine Learning using Python\n",
    "<br>Exam – Paper 1</b>\n",
    "\n",
    "Name : Kailas Muke\n",
    "<br>Batch : PGA WE01"
   ]
  },
  {
   "cell_type": "markdown",
   "id": "1078f6cb",
   "metadata": {},
   "source": [
    "<b>Part I: Supervised Learning</b>\n",
    "<br><br>Import Required Libraries to perform ML"
   ]
  },
  {
   "cell_type": "code",
   "execution_count": null,
   "id": "8d9c8662",
   "metadata": {},
   "outputs": [],
   "source": []
  },
  {
   "cell_type": "code",
   "execution_count": 5,
   "id": "c8f6d8a3",
   "metadata": {},
   "outputs": [],
   "source": [
    "import pandas as pd\n",
    "import numpy as np\n",
    "\n",
    "from sklearn.preprocessing import LabelEncoder\n",
    "\n",
    "from sklearn.ensemble import RandomForestClassifier\n",
    "from sklearn.feature_selection import RFE\n",
    "\n",
    "from sklearn.metrics import roc_curve\n",
    "import matplotlib.patches as mpatches\n",
    "import matplotlib.pyplot as plt\n",
    "from sklearn.metrics import confusion_matrix\n",
    "from sklearn.metrics import precision_score\n",
    "from sklearn.metrics import recall_score\n",
    "from sklearn.metrics import f1_score\n",
    "from sklearn.metrics import accuracy_score\n",
    "from sklearn.metrics import roc_auc_score\n",
    "\n",
    "from sklearn.model_selection import train_test_split\n",
    "\n",
    "from sklearn.linear_model import LogisticRegression\n",
    "from sklearn.tree import DecisionTreeClassifier\n",
    "from sklearn.ensemble import RandomForestClassifier\n",
    "from sklearn.neighbors import KNeighborsClassifier\n",
    "from sklearn.svm import SVC\n",
    "import xgboost as XGBClassifier\n",
    "from sklearn.ensemble import AdaBoostClassifier\n",
    "from sklearn.naive_bayes import GaussianNB"
   ]
  },
  {
   "cell_type": "code",
   "execution_count": 7,
   "id": "10c3928a",
   "metadata": {
    "scrolled": true
   },
   "outputs": [
    {
     "data": {
      "text/html": [
       "<div>\n",
       "<style scoped>\n",
       "    .dataframe tbody tr th:only-of-type {\n",
       "        vertical-align: middle;\n",
       "    }\n",
       "\n",
       "    .dataframe tbody tr th {\n",
       "        vertical-align: top;\n",
       "    }\n",
       "\n",
       "    .dataframe thead th {\n",
       "        text-align: right;\n",
       "    }\n",
       "</style>\n",
       "<table border=\"1\" class=\"dataframe\">\n",
       "  <thead>\n",
       "    <tr style=\"text-align: right;\">\n",
       "      <th></th>\n",
       "      <th>age</th>\n",
       "      <th>job</th>\n",
       "      <th>marital</th>\n",
       "      <th>education</th>\n",
       "      <th>default</th>\n",
       "      <th>housing</th>\n",
       "      <th>loan</th>\n",
       "      <th>contact</th>\n",
       "      <th>month</th>\n",
       "      <th>day_of_week</th>\n",
       "      <th>...</th>\n",
       "      <th>campaign</th>\n",
       "      <th>pdays</th>\n",
       "      <th>previous</th>\n",
       "      <th>poutcome</th>\n",
       "      <th>emp.var.rate</th>\n",
       "      <th>cons.price.idx</th>\n",
       "      <th>cons.conf.idx</th>\n",
       "      <th>euribor3m</th>\n",
       "      <th>nr.employed</th>\n",
       "      <th>y</th>\n",
       "    </tr>\n",
       "  </thead>\n",
       "  <tbody>\n",
       "    <tr>\n",
       "      <th>0</th>\n",
       "      <td>56</td>\n",
       "      <td>housemaid</td>\n",
       "      <td>married</td>\n",
       "      <td>basic.4y</td>\n",
       "      <td>no</td>\n",
       "      <td>no</td>\n",
       "      <td>no</td>\n",
       "      <td>telephone</td>\n",
       "      <td>may</td>\n",
       "      <td>mon</td>\n",
       "      <td>...</td>\n",
       "      <td>1</td>\n",
       "      <td>999</td>\n",
       "      <td>0</td>\n",
       "      <td>nonexistent</td>\n",
       "      <td>1.1</td>\n",
       "      <td>93.994</td>\n",
       "      <td>-36.4</td>\n",
       "      <td>4.857</td>\n",
       "      <td>5191.0</td>\n",
       "      <td>no</td>\n",
       "    </tr>\n",
       "    <tr>\n",
       "      <th>1</th>\n",
       "      <td>57</td>\n",
       "      <td>services</td>\n",
       "      <td>married</td>\n",
       "      <td>high.school</td>\n",
       "      <td>unknown</td>\n",
       "      <td>no</td>\n",
       "      <td>no</td>\n",
       "      <td>telephone</td>\n",
       "      <td>may</td>\n",
       "      <td>mon</td>\n",
       "      <td>...</td>\n",
       "      <td>1</td>\n",
       "      <td>999</td>\n",
       "      <td>0</td>\n",
       "      <td>nonexistent</td>\n",
       "      <td>1.1</td>\n",
       "      <td>93.994</td>\n",
       "      <td>-36.4</td>\n",
       "      <td>4.857</td>\n",
       "      <td>5191.0</td>\n",
       "      <td>no</td>\n",
       "    </tr>\n",
       "    <tr>\n",
       "      <th>2</th>\n",
       "      <td>37</td>\n",
       "      <td>services</td>\n",
       "      <td>married</td>\n",
       "      <td>high.school</td>\n",
       "      <td>no</td>\n",
       "      <td>yes</td>\n",
       "      <td>no</td>\n",
       "      <td>telephone</td>\n",
       "      <td>may</td>\n",
       "      <td>mon</td>\n",
       "      <td>...</td>\n",
       "      <td>1</td>\n",
       "      <td>999</td>\n",
       "      <td>0</td>\n",
       "      <td>nonexistent</td>\n",
       "      <td>1.1</td>\n",
       "      <td>93.994</td>\n",
       "      <td>-36.4</td>\n",
       "      <td>4.857</td>\n",
       "      <td>5191.0</td>\n",
       "      <td>no</td>\n",
       "    </tr>\n",
       "    <tr>\n",
       "      <th>3</th>\n",
       "      <td>40</td>\n",
       "      <td>admin.</td>\n",
       "      <td>married</td>\n",
       "      <td>basic.6y</td>\n",
       "      <td>no</td>\n",
       "      <td>no</td>\n",
       "      <td>no</td>\n",
       "      <td>telephone</td>\n",
       "      <td>may</td>\n",
       "      <td>mon</td>\n",
       "      <td>...</td>\n",
       "      <td>1</td>\n",
       "      <td>999</td>\n",
       "      <td>0</td>\n",
       "      <td>nonexistent</td>\n",
       "      <td>1.1</td>\n",
       "      <td>93.994</td>\n",
       "      <td>-36.4</td>\n",
       "      <td>4.857</td>\n",
       "      <td>5191.0</td>\n",
       "      <td>no</td>\n",
       "    </tr>\n",
       "    <tr>\n",
       "      <th>4</th>\n",
       "      <td>56</td>\n",
       "      <td>services</td>\n",
       "      <td>married</td>\n",
       "      <td>high.school</td>\n",
       "      <td>no</td>\n",
       "      <td>no</td>\n",
       "      <td>yes</td>\n",
       "      <td>telephone</td>\n",
       "      <td>may</td>\n",
       "      <td>mon</td>\n",
       "      <td>...</td>\n",
       "      <td>1</td>\n",
       "      <td>999</td>\n",
       "      <td>0</td>\n",
       "      <td>nonexistent</td>\n",
       "      <td>1.1</td>\n",
       "      <td>93.994</td>\n",
       "      <td>-36.4</td>\n",
       "      <td>4.857</td>\n",
       "      <td>5191.0</td>\n",
       "      <td>no</td>\n",
       "    </tr>\n",
       "    <tr>\n",
       "      <th>5</th>\n",
       "      <td>45</td>\n",
       "      <td>services</td>\n",
       "      <td>married</td>\n",
       "      <td>basic.9y</td>\n",
       "      <td>unknown</td>\n",
       "      <td>no</td>\n",
       "      <td>no</td>\n",
       "      <td>telephone</td>\n",
       "      <td>may</td>\n",
       "      <td>mon</td>\n",
       "      <td>...</td>\n",
       "      <td>1</td>\n",
       "      <td>999</td>\n",
       "      <td>0</td>\n",
       "      <td>nonexistent</td>\n",
       "      <td>1.1</td>\n",
       "      <td>93.994</td>\n",
       "      <td>-36.4</td>\n",
       "      <td>4.857</td>\n",
       "      <td>5191.0</td>\n",
       "      <td>no</td>\n",
       "    </tr>\n",
       "    <tr>\n",
       "      <th>6</th>\n",
       "      <td>59</td>\n",
       "      <td>admin.</td>\n",
       "      <td>married</td>\n",
       "      <td>professional.course</td>\n",
       "      <td>no</td>\n",
       "      <td>no</td>\n",
       "      <td>no</td>\n",
       "      <td>telephone</td>\n",
       "      <td>may</td>\n",
       "      <td>mon</td>\n",
       "      <td>...</td>\n",
       "      <td>1</td>\n",
       "      <td>999</td>\n",
       "      <td>0</td>\n",
       "      <td>nonexistent</td>\n",
       "      <td>1.1</td>\n",
       "      <td>93.994</td>\n",
       "      <td>-36.4</td>\n",
       "      <td>4.857</td>\n",
       "      <td>5191.0</td>\n",
       "      <td>no</td>\n",
       "    </tr>\n",
       "    <tr>\n",
       "      <th>7</th>\n",
       "      <td>41</td>\n",
       "      <td>blue-collar</td>\n",
       "      <td>married</td>\n",
       "      <td>unknown</td>\n",
       "      <td>unknown</td>\n",
       "      <td>no</td>\n",
       "      <td>no</td>\n",
       "      <td>telephone</td>\n",
       "      <td>may</td>\n",
       "      <td>mon</td>\n",
       "      <td>...</td>\n",
       "      <td>1</td>\n",
       "      <td>999</td>\n",
       "      <td>0</td>\n",
       "      <td>nonexistent</td>\n",
       "      <td>1.1</td>\n",
       "      <td>93.994</td>\n",
       "      <td>-36.4</td>\n",
       "      <td>4.857</td>\n",
       "      <td>5191.0</td>\n",
       "      <td>no</td>\n",
       "    </tr>\n",
       "    <tr>\n",
       "      <th>8</th>\n",
       "      <td>24</td>\n",
       "      <td>technician</td>\n",
       "      <td>single</td>\n",
       "      <td>professional.course</td>\n",
       "      <td>no</td>\n",
       "      <td>yes</td>\n",
       "      <td>no</td>\n",
       "      <td>telephone</td>\n",
       "      <td>may</td>\n",
       "      <td>mon</td>\n",
       "      <td>...</td>\n",
       "      <td>1</td>\n",
       "      <td>999</td>\n",
       "      <td>0</td>\n",
       "      <td>nonexistent</td>\n",
       "      <td>1.1</td>\n",
       "      <td>93.994</td>\n",
       "      <td>-36.4</td>\n",
       "      <td>4.857</td>\n",
       "      <td>5191.0</td>\n",
       "      <td>no</td>\n",
       "    </tr>\n",
       "    <tr>\n",
       "      <th>9</th>\n",
       "      <td>25</td>\n",
       "      <td>services</td>\n",
       "      <td>single</td>\n",
       "      <td>high.school</td>\n",
       "      <td>no</td>\n",
       "      <td>yes</td>\n",
       "      <td>no</td>\n",
       "      <td>telephone</td>\n",
       "      <td>may</td>\n",
       "      <td>mon</td>\n",
       "      <td>...</td>\n",
       "      <td>1</td>\n",
       "      <td>999</td>\n",
       "      <td>0</td>\n",
       "      <td>nonexistent</td>\n",
       "      <td>1.1</td>\n",
       "      <td>93.994</td>\n",
       "      <td>-36.4</td>\n",
       "      <td>4.857</td>\n",
       "      <td>5191.0</td>\n",
       "      <td>no</td>\n",
       "    </tr>\n",
       "    <tr>\n",
       "      <th>10</th>\n",
       "      <td>41</td>\n",
       "      <td>blue-collar</td>\n",
       "      <td>married</td>\n",
       "      <td>unknown</td>\n",
       "      <td>unknown</td>\n",
       "      <td>no</td>\n",
       "      <td>no</td>\n",
       "      <td>telephone</td>\n",
       "      <td>may</td>\n",
       "      <td>mon</td>\n",
       "      <td>...</td>\n",
       "      <td>1</td>\n",
       "      <td>999</td>\n",
       "      <td>0</td>\n",
       "      <td>nonexistent</td>\n",
       "      <td>1.1</td>\n",
       "      <td>93.994</td>\n",
       "      <td>-36.4</td>\n",
       "      <td>4.857</td>\n",
       "      <td>5191.0</td>\n",
       "      <td>no</td>\n",
       "    </tr>\n",
       "    <tr>\n",
       "      <th>11</th>\n",
       "      <td>25</td>\n",
       "      <td>services</td>\n",
       "      <td>single</td>\n",
       "      <td>high.school</td>\n",
       "      <td>no</td>\n",
       "      <td>yes</td>\n",
       "      <td>no</td>\n",
       "      <td>telephone</td>\n",
       "      <td>may</td>\n",
       "      <td>mon</td>\n",
       "      <td>...</td>\n",
       "      <td>1</td>\n",
       "      <td>999</td>\n",
       "      <td>0</td>\n",
       "      <td>nonexistent</td>\n",
       "      <td>1.1</td>\n",
       "      <td>93.994</td>\n",
       "      <td>-36.4</td>\n",
       "      <td>4.857</td>\n",
       "      <td>5191.0</td>\n",
       "      <td>no</td>\n",
       "    </tr>\n",
       "    <tr>\n",
       "      <th>12</th>\n",
       "      <td>29</td>\n",
       "      <td>blue-collar</td>\n",
       "      <td>single</td>\n",
       "      <td>high.school</td>\n",
       "      <td>no</td>\n",
       "      <td>no</td>\n",
       "      <td>yes</td>\n",
       "      <td>telephone</td>\n",
       "      <td>may</td>\n",
       "      <td>mon</td>\n",
       "      <td>...</td>\n",
       "      <td>1</td>\n",
       "      <td>999</td>\n",
       "      <td>0</td>\n",
       "      <td>nonexistent</td>\n",
       "      <td>1.1</td>\n",
       "      <td>93.994</td>\n",
       "      <td>-36.4</td>\n",
       "      <td>4.857</td>\n",
       "      <td>5191.0</td>\n",
       "      <td>no</td>\n",
       "    </tr>\n",
       "    <tr>\n",
       "      <th>13</th>\n",
       "      <td>57</td>\n",
       "      <td>housemaid</td>\n",
       "      <td>divorced</td>\n",
       "      <td>basic.4y</td>\n",
       "      <td>no</td>\n",
       "      <td>yes</td>\n",
       "      <td>no</td>\n",
       "      <td>telephone</td>\n",
       "      <td>may</td>\n",
       "      <td>mon</td>\n",
       "      <td>...</td>\n",
       "      <td>1</td>\n",
       "      <td>999</td>\n",
       "      <td>0</td>\n",
       "      <td>nonexistent</td>\n",
       "      <td>1.1</td>\n",
       "      <td>93.994</td>\n",
       "      <td>-36.4</td>\n",
       "      <td>4.857</td>\n",
       "      <td>5191.0</td>\n",
       "      <td>no</td>\n",
       "    </tr>\n",
       "    <tr>\n",
       "      <th>14</th>\n",
       "      <td>35</td>\n",
       "      <td>blue-collar</td>\n",
       "      <td>married</td>\n",
       "      <td>basic.6y</td>\n",
       "      <td>no</td>\n",
       "      <td>yes</td>\n",
       "      <td>no</td>\n",
       "      <td>telephone</td>\n",
       "      <td>may</td>\n",
       "      <td>mon</td>\n",
       "      <td>...</td>\n",
       "      <td>1</td>\n",
       "      <td>999</td>\n",
       "      <td>0</td>\n",
       "      <td>nonexistent</td>\n",
       "      <td>1.1</td>\n",
       "      <td>93.994</td>\n",
       "      <td>-36.4</td>\n",
       "      <td>4.857</td>\n",
       "      <td>5191.0</td>\n",
       "      <td>no</td>\n",
       "    </tr>\n",
       "    <tr>\n",
       "      <th>15</th>\n",
       "      <td>54</td>\n",
       "      <td>retired</td>\n",
       "      <td>married</td>\n",
       "      <td>basic.9y</td>\n",
       "      <td>unknown</td>\n",
       "      <td>yes</td>\n",
       "      <td>yes</td>\n",
       "      <td>telephone</td>\n",
       "      <td>may</td>\n",
       "      <td>mon</td>\n",
       "      <td>...</td>\n",
       "      <td>1</td>\n",
       "      <td>999</td>\n",
       "      <td>0</td>\n",
       "      <td>nonexistent</td>\n",
       "      <td>1.1</td>\n",
       "      <td>93.994</td>\n",
       "      <td>-36.4</td>\n",
       "      <td>4.857</td>\n",
       "      <td>5191.0</td>\n",
       "      <td>no</td>\n",
       "    </tr>\n",
       "    <tr>\n",
       "      <th>16</th>\n",
       "      <td>35</td>\n",
       "      <td>blue-collar</td>\n",
       "      <td>married</td>\n",
       "      <td>basic.6y</td>\n",
       "      <td>no</td>\n",
       "      <td>yes</td>\n",
       "      <td>no</td>\n",
       "      <td>telephone</td>\n",
       "      <td>may</td>\n",
       "      <td>mon</td>\n",
       "      <td>...</td>\n",
       "      <td>1</td>\n",
       "      <td>999</td>\n",
       "      <td>0</td>\n",
       "      <td>nonexistent</td>\n",
       "      <td>1.1</td>\n",
       "      <td>93.994</td>\n",
       "      <td>-36.4</td>\n",
       "      <td>4.857</td>\n",
       "      <td>5191.0</td>\n",
       "      <td>no</td>\n",
       "    </tr>\n",
       "    <tr>\n",
       "      <th>17</th>\n",
       "      <td>46</td>\n",
       "      <td>blue-collar</td>\n",
       "      <td>married</td>\n",
       "      <td>basic.6y</td>\n",
       "      <td>unknown</td>\n",
       "      <td>yes</td>\n",
       "      <td>yes</td>\n",
       "      <td>telephone</td>\n",
       "      <td>may</td>\n",
       "      <td>mon</td>\n",
       "      <td>...</td>\n",
       "      <td>1</td>\n",
       "      <td>999</td>\n",
       "      <td>0</td>\n",
       "      <td>nonexistent</td>\n",
       "      <td>1.1</td>\n",
       "      <td>93.994</td>\n",
       "      <td>-36.4</td>\n",
       "      <td>4.857</td>\n",
       "      <td>5191.0</td>\n",
       "      <td>no</td>\n",
       "    </tr>\n",
       "    <tr>\n",
       "      <th>18</th>\n",
       "      <td>50</td>\n",
       "      <td>blue-collar</td>\n",
       "      <td>married</td>\n",
       "      <td>basic.9y</td>\n",
       "      <td>no</td>\n",
       "      <td>yes</td>\n",
       "      <td>yes</td>\n",
       "      <td>telephone</td>\n",
       "      <td>may</td>\n",
       "      <td>mon</td>\n",
       "      <td>...</td>\n",
       "      <td>1</td>\n",
       "      <td>999</td>\n",
       "      <td>0</td>\n",
       "      <td>nonexistent</td>\n",
       "      <td>1.1</td>\n",
       "      <td>93.994</td>\n",
       "      <td>-36.4</td>\n",
       "      <td>4.857</td>\n",
       "      <td>5191.0</td>\n",
       "      <td>no</td>\n",
       "    </tr>\n",
       "    <tr>\n",
       "      <th>19</th>\n",
       "      <td>39</td>\n",
       "      <td>management</td>\n",
       "      <td>single</td>\n",
       "      <td>basic.9y</td>\n",
       "      <td>unknown</td>\n",
       "      <td>no</td>\n",
       "      <td>no</td>\n",
       "      <td>telephone</td>\n",
       "      <td>may</td>\n",
       "      <td>mon</td>\n",
       "      <td>...</td>\n",
       "      <td>1</td>\n",
       "      <td>999</td>\n",
       "      <td>0</td>\n",
       "      <td>nonexistent</td>\n",
       "      <td>1.1</td>\n",
       "      <td>93.994</td>\n",
       "      <td>-36.4</td>\n",
       "      <td>4.857</td>\n",
       "      <td>5191.0</td>\n",
       "      <td>no</td>\n",
       "    </tr>\n",
       "  </tbody>\n",
       "</table>\n",
       "<p>20 rows × 21 columns</p>\n",
       "</div>"
      ],
      "text/plain": [
       "    age          job   marital            education  default housing loan  \\\n",
       "0    56    housemaid   married             basic.4y       no      no   no   \n",
       "1    57     services   married          high.school  unknown      no   no   \n",
       "2    37     services   married          high.school       no     yes   no   \n",
       "3    40       admin.   married             basic.6y       no      no   no   \n",
       "4    56     services   married          high.school       no      no  yes   \n",
       "5    45     services   married             basic.9y  unknown      no   no   \n",
       "6    59       admin.   married  professional.course       no      no   no   \n",
       "7    41  blue-collar   married              unknown  unknown      no   no   \n",
       "8    24   technician    single  professional.course       no     yes   no   \n",
       "9    25     services    single          high.school       no     yes   no   \n",
       "10   41  blue-collar   married              unknown  unknown      no   no   \n",
       "11   25     services    single          high.school       no     yes   no   \n",
       "12   29  blue-collar    single          high.school       no      no  yes   \n",
       "13   57    housemaid  divorced             basic.4y       no     yes   no   \n",
       "14   35  blue-collar   married             basic.6y       no     yes   no   \n",
       "15   54      retired   married             basic.9y  unknown     yes  yes   \n",
       "16   35  blue-collar   married             basic.6y       no     yes   no   \n",
       "17   46  blue-collar   married             basic.6y  unknown     yes  yes   \n",
       "18   50  blue-collar   married             basic.9y       no     yes  yes   \n",
       "19   39   management    single             basic.9y  unknown      no   no   \n",
       "\n",
       "      contact month day_of_week  ...  campaign  pdays  previous     poutcome  \\\n",
       "0   telephone   may         mon  ...         1    999         0  nonexistent   \n",
       "1   telephone   may         mon  ...         1    999         0  nonexistent   \n",
       "2   telephone   may         mon  ...         1    999         0  nonexistent   \n",
       "3   telephone   may         mon  ...         1    999         0  nonexistent   \n",
       "4   telephone   may         mon  ...         1    999         0  nonexistent   \n",
       "5   telephone   may         mon  ...         1    999         0  nonexistent   \n",
       "6   telephone   may         mon  ...         1    999         0  nonexistent   \n",
       "7   telephone   may         mon  ...         1    999         0  nonexistent   \n",
       "8   telephone   may         mon  ...         1    999         0  nonexistent   \n",
       "9   telephone   may         mon  ...         1    999         0  nonexistent   \n",
       "10  telephone   may         mon  ...         1    999         0  nonexistent   \n",
       "11  telephone   may         mon  ...         1    999         0  nonexistent   \n",
       "12  telephone   may         mon  ...         1    999         0  nonexistent   \n",
       "13  telephone   may         mon  ...         1    999         0  nonexistent   \n",
       "14  telephone   may         mon  ...         1    999         0  nonexistent   \n",
       "15  telephone   may         mon  ...         1    999         0  nonexistent   \n",
       "16  telephone   may         mon  ...         1    999         0  nonexistent   \n",
       "17  telephone   may         mon  ...         1    999         0  nonexistent   \n",
       "18  telephone   may         mon  ...         1    999         0  nonexistent   \n",
       "19  telephone   may         mon  ...         1    999         0  nonexistent   \n",
       "\n",
       "   emp.var.rate  cons.price.idx  cons.conf.idx  euribor3m  nr.employed   y  \n",
       "0           1.1          93.994          -36.4      4.857       5191.0  no  \n",
       "1           1.1          93.994          -36.4      4.857       5191.0  no  \n",
       "2           1.1          93.994          -36.4      4.857       5191.0  no  \n",
       "3           1.1          93.994          -36.4      4.857       5191.0  no  \n",
       "4           1.1          93.994          -36.4      4.857       5191.0  no  \n",
       "5           1.1          93.994          -36.4      4.857       5191.0  no  \n",
       "6           1.1          93.994          -36.4      4.857       5191.0  no  \n",
       "7           1.1          93.994          -36.4      4.857       5191.0  no  \n",
       "8           1.1          93.994          -36.4      4.857       5191.0  no  \n",
       "9           1.1          93.994          -36.4      4.857       5191.0  no  \n",
       "10          1.1          93.994          -36.4      4.857       5191.0  no  \n",
       "11          1.1          93.994          -36.4      4.857       5191.0  no  \n",
       "12          1.1          93.994          -36.4      4.857       5191.0  no  \n",
       "13          1.1          93.994          -36.4      4.857       5191.0  no  \n",
       "14          1.1          93.994          -36.4      4.857       5191.0  no  \n",
       "15          1.1          93.994          -36.4      4.857       5191.0  no  \n",
       "16          1.1          93.994          -36.4      4.857       5191.0  no  \n",
       "17          1.1          93.994          -36.4      4.857       5191.0  no  \n",
       "18          1.1          93.994          -36.4      4.857       5191.0  no  \n",
       "19          1.1          93.994          -36.4      4.857       5191.0  no  \n",
       "\n",
       "[20 rows x 21 columns]"
      ]
     },
     "execution_count": 7,
     "metadata": {},
     "output_type": "execute_result"
    }
   ],
   "source": [
    "bank = pd.read_csv('bank.csv', sep=';')\n",
    "bank.head(20)"
   ]
  },
  {
   "cell_type": "code",
   "execution_count": 8,
   "id": "0d78a91e",
   "metadata": {},
   "outputs": [
    {
     "data": {
      "text/plain": [
       "(41188, 21)"
      ]
     },
     "execution_count": 8,
     "metadata": {},
     "output_type": "execute_result"
    }
   ],
   "source": [
    "bank.shape"
   ]
  },
  {
   "cell_type": "code",
   "execution_count": 9,
   "id": "c5213306",
   "metadata": {},
   "outputs": [
    {
     "data": {
      "text/plain": [
       "Index(['age', 'job', 'marital', 'education', 'default', 'housing', 'loan',\n",
       "       'contact', 'month', 'day_of_week', 'duration', 'campaign', 'pdays',\n",
       "       'previous', 'poutcome', 'emp.var.rate', 'cons.price.idx',\n",
       "       'cons.conf.idx', 'euribor3m', 'nr.employed', 'y'],\n",
       "      dtype='object')"
      ]
     },
     "execution_count": 9,
     "metadata": {},
     "output_type": "execute_result"
    }
   ],
   "source": [
    "bank.columns"
   ]
  },
  {
   "cell_type": "code",
   "execution_count": 10,
   "id": "af88ce79",
   "metadata": {
    "scrolled": true
   },
   "outputs": [
    {
     "name": "stdout",
     "output_type": "stream",
     "text": [
      "<class 'pandas.core.frame.DataFrame'>\n",
      "RangeIndex: 41188 entries, 0 to 41187\n",
      "Data columns (total 21 columns):\n",
      " #   Column          Non-Null Count  Dtype  \n",
      "---  ------          --------------  -----  \n",
      " 0   age             41188 non-null  int64  \n",
      " 1   job             41188 non-null  object \n",
      " 2   marital         41188 non-null  object \n",
      " 3   education       41188 non-null  object \n",
      " 4   default         41188 non-null  object \n",
      " 5   housing         41188 non-null  object \n",
      " 6   loan            41188 non-null  object \n",
      " 7   contact         41188 non-null  object \n",
      " 8   month           41188 non-null  object \n",
      " 9   day_of_week     41188 non-null  object \n",
      " 10  duration        41188 non-null  int64  \n",
      " 11  campaign        41188 non-null  int64  \n",
      " 12  pdays           41188 non-null  int64  \n",
      " 13  previous        41188 non-null  int64  \n",
      " 14  poutcome        41188 non-null  object \n",
      " 15  emp.var.rate    41188 non-null  float64\n",
      " 16  cons.price.idx  41188 non-null  float64\n",
      " 17  cons.conf.idx   41188 non-null  float64\n",
      " 18  euribor3m       41188 non-null  float64\n",
      " 19  nr.employed     41188 non-null  float64\n",
      " 20  y               41188 non-null  object \n",
      "dtypes: float64(5), int64(5), object(11)\n",
      "memory usage: 6.6+ MB\n"
     ]
    }
   ],
   "source": [
    "bank.info()"
   ]
  },
  {
   "cell_type": "markdown",
   "id": "e6d55f13",
   "metadata": {},
   "source": [
    "<h4>Find out the Numeric from the Dataset</h4>"
   ]
  },
  {
   "cell_type": "code",
   "execution_count": 11,
   "id": "14fdf7fd",
   "metadata": {},
   "outputs": [
    {
     "name": "stdout",
     "output_type": "stream",
     "text": [
      "Columns with Numeric Data Type :  5 \n",
      "\n",
      " Index(['age', 'duration', 'campaign', 'pdays', 'previous', 'emp.var.rate',\n",
      "       'cons.price.idx', 'cons.conf.idx', 'euribor3m', 'nr.employed'],\n",
      "      dtype='object')\n"
     ]
    }
   ],
   "source": [
    "print('Columns with Numeric Data Type : ',bank[bank.select_dtypes(include = ['int', 'float']).columns].shape[1],'\\n\\n',bank.columns[bank.dtypes != 'object'])\n",
    "# bank[bank.select_dtypes(include=['int', 'float']).columns]\n",
    "\n"
   ]
  },
  {
   "cell_type": "markdown",
   "id": "8f43a73e",
   "metadata": {},
   "source": [
    "<h4>Find out Object type Columns from the Dataset</h4>"
   ]
  },
  {
   "cell_type": "code",
   "execution_count": 13,
   "id": "9e5f9d46",
   "metadata": {},
   "outputs": [
    {
     "name": "stdout",
     "output_type": "stream",
     "text": [
      "\n",
      "\n",
      "\n",
      "Columns with Obejct Data Type :  11 \n",
      "\n",
      " Index(['job', 'marital', 'education', 'default', 'housing', 'loan', 'contact',\n",
      "       'month', 'day_of_week', 'poutcome', 'y'],\n",
      "      dtype='object')\n"
     ]
    }
   ],
   "source": [
    "print('\\n\\n\\nColumns with Obejct Data Type : ',bank[bank.select_dtypes(include = ['object']).columns].shape[1],'\\n\\n', bank.columns[bank.dtypes == 'object'])\n",
    "# bank[bank.select_dtypes(include = ['object']).columns]"
   ]
  },
  {
   "cell_type": "markdown",
   "id": "443df771",
   "metadata": {},
   "source": [
    "<h4>Find out Categorical Columns from the Object Datatype Features of the Dataset</h4>"
   ]
  },
  {
   "cell_type": "code",
   "execution_count": 31,
   "id": "fb7c1975",
   "metadata": {},
   "outputs": [
    {
     "name": "stdout",
     "output_type": "stream",
     "text": [
      "Categorical Columns with 8 or less than 8 unique values are : \n",
      " ['marital', 'education', 'default', 'housing', 'loan', 'contact', 'day_of_week', 'poutcome', 'y']\n",
      "\n",
      " \n",
      " Non Categorical Columns with more than 8 unique values are : \n",
      " ['job', 'month']\n"
     ]
    }
   ],
   "source": [
    "categorical_cols = []\n",
    "non_categorical_cols = []\n",
    "bank_obj_cols = bank.select_dtypes(include = ['object']).columns\n",
    "\n",
    "for i in range(bank[bank.select_dtypes(include = ['object']).columns].shape[1]):\n",
    "    if(len(bank[bank_obj_cols[i]].value_counts()) <= 8 ):\n",
    "        categorical_cols.append(bank_obj_cols[i])\n",
    "    else:\n",
    "        non_categorical_cols.append(bank_obj_cols[i])\n",
    "        \n",
    "print(\"Categorical Columns with 8 or less than 8 unique values are : \\n\", categorical_cols)\n",
    "print(\"\\n \\n Non Categorical Columns with more than 8 unique values are : \\n\", non_categorical_cols)"
   ]
  },
  {
   "cell_type": "markdown",
   "id": "93f9f866",
   "metadata": {},
   "source": [
    "<h2>Conclusion : </h2><br>   \n",
    "<h4> We have discovered that there are 11 object types features and 10 non-object data type</h4>\n",
    "<h4> There are a total of 9 Features which have Categorical Data in the Dataset </h4>"
   ]
  },
  {
   "cell_type": "markdown",
   "id": "3ae2eaa6",
   "metadata": {},
   "source": [
    "<h3>2. Perform the following Exploratory Data Analysis tasks:</h3>"
   ]
  },
  {
   "cell_type": "markdown",
   "id": "388c8d9c",
   "metadata": {},
   "source": [
    "<h5> a. Missing Value Analysis</h5>"
   ]
  },
  {
   "cell_type": "code",
   "execution_count": 32,
   "id": "79262155",
   "metadata": {},
   "outputs": [
    {
     "data": {
      "text/plain": [
       "Index([], dtype='object')"
      ]
     },
     "execution_count": 32,
     "metadata": {},
     "output_type": "execute_result"
    }
   ],
   "source": [
    "bank.columns[bank.isnull().sum() > 0]"
   ]
  },
  {
   "cell_type": "markdown",
   "id": "14971d80",
   "metadata": {},
   "source": [
    "<h5> b. Label Encoding wherever required </h5>"
   ]
  },
  {
   "cell_type": "code",
   "execution_count": 33,
   "id": "743c9777",
   "metadata": {
    "scrolled": false
   },
   "outputs": [
    {
     "name": "stdout",
     "output_type": "stream",
     "text": [
      "<class 'pandas.core.frame.DataFrame'>\n",
      "RangeIndex: 41188 entries, 0 to 41187\n",
      "Data columns (total 21 columns):\n",
      " #   Column          Non-Null Count  Dtype  \n",
      "---  ------          --------------  -----  \n",
      " 0   age             41188 non-null  int64  \n",
      " 1   job             41188 non-null  int32  \n",
      " 2   marital         41188 non-null  int32  \n",
      " 3   education       41188 non-null  int32  \n",
      " 4   default         41188 non-null  int32  \n",
      " 5   housing         41188 non-null  int32  \n",
      " 6   loan            41188 non-null  int32  \n",
      " 7   contact         41188 non-null  int32  \n",
      " 8   month           41188 non-null  int32  \n",
      " 9   day_of_week     41188 non-null  int32  \n",
      " 10  duration        41188 non-null  int64  \n",
      " 11  campaign        41188 non-null  int64  \n",
      " 12  pdays           41188 non-null  int64  \n",
      " 13  previous        41188 non-null  int64  \n",
      " 14  poutcome        41188 non-null  int32  \n",
      " 15  emp.var.rate    41188 non-null  float64\n",
      " 16  cons.price.idx  41188 non-null  float64\n",
      " 17  cons.conf.idx   41188 non-null  float64\n",
      " 18  euribor3m       41188 non-null  float64\n",
      " 19  nr.employed     41188 non-null  float64\n",
      " 20  y               41188 non-null  int32  \n",
      "dtypes: float64(5), int32(11), int64(5)\n",
      "memory usage: 4.9 MB\n"
     ]
    }
   ],
   "source": [
    "le = LabelEncoder()\n",
    "\n",
    "bank[bank.select_dtypes(include = ['object']).columns] = bank[bank.select_dtypes(include = ['object']).columns].apply(le.fit_transform)\n",
    "bank.info()"
   ]
  },
  {
   "cell_type": "markdown",
   "id": "c27ff2d7",
   "metadata": {},
   "source": [
    "<h5> c. Divide the Dataset into train and test sets </h5>"
   ]
  },
  {
   "cell_type": "code",
   "execution_count": 34,
   "id": "e49476ac",
   "metadata": {},
   "outputs": [],
   "source": [
    "#from sklearn.model_selection import train_test_split\n",
    "\n",
    "bank_x = bank.iloc[:,0:-1]\n",
    "bank_y = bank.iloc[:,-1]\n",
    "\n",
    "bank_train_x, bank_test_x, bank_train_y,  bank_test_y = train_test_split(bank_x, bank_y, test_size=.2)\n"
   ]
  },
  {
   "cell_type": "markdown",
   "id": "0324afe2",
   "metadata": {},
   "source": [
    "<h5> d. Selecting important features based on Random Forest </h5>"
   ]
  },
  {
   "cell_type": "code",
   "execution_count": 35,
   "id": "7e8b6f83",
   "metadata": {
    "scrolled": true
   },
   "outputs": [
    {
     "name": "stderr",
     "output_type": "stream",
     "text": [
      "D:\\Installation\\Anaconda\\lib\\site-packages\\sklearn\\utils\\validation.py:70: FutureWarning: Pass n_features_to_select=2 as keyword args. From version 1.0 (renaming of 0.25) passing these as positional arguments will result in an error\n",
      "  warnings.warn(f\"Pass {args_msg} as keyword args. From version \"\n"
     ]
    },
    {
     "data": {
      "text/plain": [
       "array([False, False, False, False, False, False, False, False, False,\n",
       "       False,  True, False, False, False, False, False, False, False,\n",
       "        True, False])"
      ]
     },
     "execution_count": 35,
     "metadata": {},
     "output_type": "execute_result"
    }
   ],
   "source": [
    "rfe = RandomForestClassifier()\n",
    "rfe = RFE(rfe, 2)\n",
    "\n",
    "rfe.fit(bank_train_x, bank_train_y)\n",
    "\n",
    "rfe.support_"
   ]
  },
  {
   "cell_type": "code",
   "execution_count": 36,
   "id": "872f00c4",
   "metadata": {
    "scrolled": true
   },
   "outputs": [
    {
     "data": {
      "text/html": [
       "<div>\n",
       "<style scoped>\n",
       "    .dataframe tbody tr th:only-of-type {\n",
       "        vertical-align: middle;\n",
       "    }\n",
       "\n",
       "    .dataframe tbody tr th {\n",
       "        vertical-align: top;\n",
       "    }\n",
       "\n",
       "    .dataframe thead th {\n",
       "        text-align: right;\n",
       "    }\n",
       "</style>\n",
       "<table border=\"1\" class=\"dataframe\">\n",
       "  <thead>\n",
       "    <tr style=\"text-align: right;\">\n",
       "      <th></th>\n",
       "      <th>Var</th>\n",
       "      <th>Imp</th>\n",
       "    </tr>\n",
       "  </thead>\n",
       "  <tbody>\n",
       "    <tr>\n",
       "      <th>10</th>\n",
       "      <td>duration</td>\n",
       "      <td>True</td>\n",
       "    </tr>\n",
       "    <tr>\n",
       "      <th>18</th>\n",
       "      <td>euribor3m</td>\n",
       "      <td>True</td>\n",
       "    </tr>\n",
       "    <tr>\n",
       "      <th>1</th>\n",
       "      <td>job</td>\n",
       "      <td>False</td>\n",
       "    </tr>\n",
       "    <tr>\n",
       "      <th>17</th>\n",
       "      <td>cons.conf.idx</td>\n",
       "      <td>False</td>\n",
       "    </tr>\n",
       "    <tr>\n",
       "      <th>16</th>\n",
       "      <td>cons.price.idx</td>\n",
       "      <td>False</td>\n",
       "    </tr>\n",
       "    <tr>\n",
       "      <th>15</th>\n",
       "      <td>emp.var.rate</td>\n",
       "      <td>False</td>\n",
       "    </tr>\n",
       "    <tr>\n",
       "      <th>14</th>\n",
       "      <td>poutcome</td>\n",
       "      <td>False</td>\n",
       "    </tr>\n",
       "    <tr>\n",
       "      <th>13</th>\n",
       "      <td>previous</td>\n",
       "      <td>False</td>\n",
       "    </tr>\n",
       "    <tr>\n",
       "      <th>12</th>\n",
       "      <td>pdays</td>\n",
       "      <td>False</td>\n",
       "    </tr>\n",
       "    <tr>\n",
       "      <th>11</th>\n",
       "      <td>campaign</td>\n",
       "      <td>False</td>\n",
       "    </tr>\n",
       "    <tr>\n",
       "      <th>0</th>\n",
       "      <td>age</td>\n",
       "      <td>False</td>\n",
       "    </tr>\n",
       "    <tr>\n",
       "      <th>9</th>\n",
       "      <td>day_of_week</td>\n",
       "      <td>False</td>\n",
       "    </tr>\n",
       "    <tr>\n",
       "      <th>8</th>\n",
       "      <td>month</td>\n",
       "      <td>False</td>\n",
       "    </tr>\n",
       "    <tr>\n",
       "      <th>7</th>\n",
       "      <td>contact</td>\n",
       "      <td>False</td>\n",
       "    </tr>\n",
       "    <tr>\n",
       "      <th>6</th>\n",
       "      <td>loan</td>\n",
       "      <td>False</td>\n",
       "    </tr>\n",
       "    <tr>\n",
       "      <th>5</th>\n",
       "      <td>housing</td>\n",
       "      <td>False</td>\n",
       "    </tr>\n",
       "    <tr>\n",
       "      <th>4</th>\n",
       "      <td>default</td>\n",
       "      <td>False</td>\n",
       "    </tr>\n",
       "    <tr>\n",
       "      <th>3</th>\n",
       "      <td>education</td>\n",
       "      <td>False</td>\n",
       "    </tr>\n",
       "    <tr>\n",
       "      <th>2</th>\n",
       "      <td>marital</td>\n",
       "      <td>False</td>\n",
       "    </tr>\n",
       "    <tr>\n",
       "      <th>19</th>\n",
       "      <td>nr.employed</td>\n",
       "      <td>False</td>\n",
       "    </tr>\n",
       "  </tbody>\n",
       "</table>\n",
       "</div>"
      ],
      "text/plain": [
       "               Var    Imp\n",
       "10        duration   True\n",
       "18       euribor3m   True\n",
       "1              job  False\n",
       "17   cons.conf.idx  False\n",
       "16  cons.price.idx  False\n",
       "15    emp.var.rate  False\n",
       "14        poutcome  False\n",
       "13        previous  False\n",
       "12           pdays  False\n",
       "11        campaign  False\n",
       "0              age  False\n",
       "9      day_of_week  False\n",
       "8            month  False\n",
       "7          contact  False\n",
       "6             loan  False\n",
       "5          housing  False\n",
       "4          default  False\n",
       "3        education  False\n",
       "2          marital  False\n",
       "19     nr.employed  False"
      ]
     },
     "execution_count": 36,
     "metadata": {},
     "output_type": "execute_result"
    }
   ],
   "source": [
    "rfe_feature_selection = pd.DataFrame({'Var':bank_x.columns, 'Imp':rfe.support_})\n",
    "rfe_feature_selection.sort_values('Imp', ascending = False )"
   ]
  },
  {
   "cell_type": "markdown",
   "id": "1e20926d",
   "metadata": {},
   "source": [
    "<h5> e. Handling unbalanced data using SMOTE </h5>"
   ]
  },
  {
   "cell_type": "code",
   "execution_count": 43,
   "id": "a1f8c9b3",
   "metadata": {},
   "outputs": [
    {
     "name": "stdout",
     "output_type": "stream",
     "text": [
      "Requirement already satisfied: imbalanced-learn in d:\\installation\\anaconda\\lib\\site-packages (0.9.1)\n",
      "Requirement already satisfied: threadpoolctl>=2.0.0 in d:\\installation\\anaconda\\lib\\site-packages (from imbalanced-learn) (2.1.0)\n",
      "Requirement already satisfied: scipy>=1.3.2 in d:\\installation\\anaconda\\lib\\site-packages (from imbalanced-learn) (1.6.2)\n",
      "Requirement already satisfied: scikit-learn>=1.1.0 in d:\\installation\\anaconda\\lib\\site-packages (from imbalanced-learn) (1.1.2)\n",
      "Requirement already satisfied: joblib>=1.0.0 in d:\\installation\\anaconda\\lib\\site-packages (from imbalanced-learn) (1.0.1)\n",
      "Requirement already satisfied: numpy>=1.17.3 in d:\\installation\\anaconda\\lib\\site-packages (from imbalanced-learn) (1.20.1)\n"
     ]
    }
   ],
   "source": [
    "!pip3 install -U imbalanced-learn"
   ]
  },
  {
   "cell_type": "code",
   "execution_count": null,
   "id": "2e41df9a",
   "metadata": {},
   "outputs": [],
   "source": []
  },
  {
   "cell_type": "code",
   "execution_count": 47,
   "id": "c418d383",
   "metadata": {},
   "outputs": [
    {
     "ename": "ImportError",
     "evalue": "cannot import name '_ClassNamePrefixFeaturesOutMixin' from 'sklearn.base' (D:\\Installation\\Anaconda\\lib\\site-packages\\sklearn\\base.py)",
     "output_type": "error",
     "traceback": [
      "\u001b[1;31m---------------------------------------------------------------------------\u001b[0m",
      "\u001b[1;31mImportError\u001b[0m                               Traceback (most recent call last)",
      "\u001b[1;32m<ipython-input-47-3e9a5a6431e9>\u001b[0m in \u001b[0;36m<module>\u001b[1;34m\u001b[0m\n\u001b[1;32m----> 1\u001b[1;33m \u001b[1;32mfrom\u001b[0m \u001b[0mimblearn\u001b[0m\u001b[1;33m.\u001b[0m\u001b[0mover_sampling\u001b[0m \u001b[1;32mimport\u001b[0m \u001b[0mSMOTE\u001b[0m\u001b[1;33m\u001b[0m\u001b[1;33m\u001b[0m\u001b[0m\n\u001b[0m\u001b[0;32m      2\u001b[0m \u001b[1;33m\u001b[0m\u001b[0m\n\u001b[0;32m      3\u001b[0m \u001b[1;31m# counter = Counter(bank_train_y)\u001b[0m\u001b[1;33m\u001b[0m\u001b[1;33m\u001b[0m\u001b[1;33m\u001b[0m\u001b[0m\n\u001b[0;32m      4\u001b[0m \u001b[0mprint\u001b[0m\u001b[1;33m(\u001b[0m\u001b[1;34m'Before \\n'\u001b[0m\u001b[1;33m,\u001b[0m \u001b[0mbank_train_y\u001b[0m\u001b[1;33m.\u001b[0m\u001b[0mvalue_counts\u001b[0m\u001b[1;33m(\u001b[0m\u001b[1;33m)\u001b[0m\u001b[1;33m)\u001b[0m\u001b[1;33m\u001b[0m\u001b[1;33m\u001b[0m\u001b[0m\n\u001b[0;32m      5\u001b[0m \u001b[1;33m\u001b[0m\u001b[0m\n",
      "\u001b[1;32mD:\\Installation\\Anaconda\\lib\\site-packages\\imblearn\\__init__.py\u001b[0m in \u001b[0;36m<module>\u001b[1;34m\u001b[0m\n\u001b[0;32m     50\u001b[0m     \u001b[1;31m# process, as it may not be compiled yet\u001b[0m\u001b[1;33m\u001b[0m\u001b[1;33m\u001b[0m\u001b[1;33m\u001b[0m\u001b[0m\n\u001b[0;32m     51\u001b[0m \u001b[1;32melse\u001b[0m\u001b[1;33m:\u001b[0m\u001b[1;33m\u001b[0m\u001b[1;33m\u001b[0m\u001b[0m\n\u001b[1;32m---> 52\u001b[1;33m     \u001b[1;32mfrom\u001b[0m \u001b[1;33m.\u001b[0m \u001b[1;32mimport\u001b[0m \u001b[0mcombine\u001b[0m\u001b[1;33m\u001b[0m\u001b[1;33m\u001b[0m\u001b[0m\n\u001b[0m\u001b[0;32m     53\u001b[0m     \u001b[1;32mfrom\u001b[0m \u001b[1;33m.\u001b[0m \u001b[1;32mimport\u001b[0m \u001b[0mensemble\u001b[0m\u001b[1;33m\u001b[0m\u001b[1;33m\u001b[0m\u001b[0m\n\u001b[0;32m     54\u001b[0m     \u001b[1;32mfrom\u001b[0m \u001b[1;33m.\u001b[0m \u001b[1;32mimport\u001b[0m \u001b[0mexceptions\u001b[0m\u001b[1;33m\u001b[0m\u001b[1;33m\u001b[0m\u001b[0m\n",
      "\u001b[1;32mD:\\Installation\\Anaconda\\lib\\site-packages\\imblearn\\combine\\__init__.py\u001b[0m in \u001b[0;36m<module>\u001b[1;34m\u001b[0m\n\u001b[0;32m      3\u001b[0m \"\"\"\n\u001b[0;32m      4\u001b[0m \u001b[1;33m\u001b[0m\u001b[0m\n\u001b[1;32m----> 5\u001b[1;33m \u001b[1;32mfrom\u001b[0m \u001b[1;33m.\u001b[0m\u001b[0m_smote_enn\u001b[0m \u001b[1;32mimport\u001b[0m \u001b[0mSMOTEENN\u001b[0m\u001b[1;33m\u001b[0m\u001b[1;33m\u001b[0m\u001b[0m\n\u001b[0m\u001b[0;32m      6\u001b[0m \u001b[1;32mfrom\u001b[0m \u001b[1;33m.\u001b[0m\u001b[0m_smote_tomek\u001b[0m \u001b[1;32mimport\u001b[0m \u001b[0mSMOTETomek\u001b[0m\u001b[1;33m\u001b[0m\u001b[1;33m\u001b[0m\u001b[0m\n\u001b[0;32m      7\u001b[0m \u001b[1;33m\u001b[0m\u001b[0m\n",
      "\u001b[1;32mD:\\Installation\\Anaconda\\lib\\site-packages\\imblearn\\combine\\_smote_enn.py\u001b[0m in \u001b[0;36m<module>\u001b[1;34m\u001b[0m\n\u001b[0;32m      9\u001b[0m \u001b[1;33m\u001b[0m\u001b[0m\n\u001b[0;32m     10\u001b[0m \u001b[1;32mfrom\u001b[0m \u001b[1;33m.\u001b[0m\u001b[1;33m.\u001b[0m\u001b[0mbase\u001b[0m \u001b[1;32mimport\u001b[0m \u001b[0mBaseSampler\u001b[0m\u001b[1;33m\u001b[0m\u001b[1;33m\u001b[0m\u001b[0m\n\u001b[1;32m---> 11\u001b[1;33m \u001b[1;32mfrom\u001b[0m \u001b[1;33m.\u001b[0m\u001b[1;33m.\u001b[0m\u001b[0mover_sampling\u001b[0m \u001b[1;32mimport\u001b[0m \u001b[0mSMOTE\u001b[0m\u001b[1;33m\u001b[0m\u001b[1;33m\u001b[0m\u001b[0m\n\u001b[0m\u001b[0;32m     12\u001b[0m \u001b[1;32mfrom\u001b[0m \u001b[1;33m.\u001b[0m\u001b[1;33m.\u001b[0m\u001b[0mover_sampling\u001b[0m\u001b[1;33m.\u001b[0m\u001b[0mbase\u001b[0m \u001b[1;32mimport\u001b[0m \u001b[0mBaseOverSampler\u001b[0m\u001b[1;33m\u001b[0m\u001b[1;33m\u001b[0m\u001b[0m\n\u001b[0;32m     13\u001b[0m \u001b[1;32mfrom\u001b[0m \u001b[1;33m.\u001b[0m\u001b[1;33m.\u001b[0m\u001b[0munder_sampling\u001b[0m \u001b[1;32mimport\u001b[0m \u001b[0mEditedNearestNeighbours\u001b[0m\u001b[1;33m\u001b[0m\u001b[1;33m\u001b[0m\u001b[0m\n",
      "\u001b[1;32mD:\\Installation\\Anaconda\\lib\\site-packages\\imblearn\\over_sampling\\__init__.py\u001b[0m in \u001b[0;36m<module>\u001b[1;34m\u001b[0m\n\u001b[0;32m      6\u001b[0m \u001b[1;32mfrom\u001b[0m \u001b[1;33m.\u001b[0m\u001b[0m_adasyn\u001b[0m \u001b[1;32mimport\u001b[0m \u001b[0mADASYN\u001b[0m\u001b[1;33m\u001b[0m\u001b[1;33m\u001b[0m\u001b[0m\n\u001b[0;32m      7\u001b[0m \u001b[1;32mfrom\u001b[0m \u001b[1;33m.\u001b[0m\u001b[0m_random_over_sampler\u001b[0m \u001b[1;32mimport\u001b[0m \u001b[0mRandomOverSampler\u001b[0m\u001b[1;33m\u001b[0m\u001b[1;33m\u001b[0m\u001b[0m\n\u001b[1;32m----> 8\u001b[1;33m \u001b[1;32mfrom\u001b[0m \u001b[1;33m.\u001b[0m\u001b[0m_smote\u001b[0m \u001b[1;32mimport\u001b[0m \u001b[0mSMOTE\u001b[0m\u001b[1;33m\u001b[0m\u001b[1;33m\u001b[0m\u001b[0m\n\u001b[0m\u001b[0;32m      9\u001b[0m \u001b[1;32mfrom\u001b[0m \u001b[1;33m.\u001b[0m\u001b[0m_smote\u001b[0m \u001b[1;32mimport\u001b[0m \u001b[0mBorderlineSMOTE\u001b[0m\u001b[1;33m\u001b[0m\u001b[1;33m\u001b[0m\u001b[0m\n\u001b[0;32m     10\u001b[0m \u001b[1;32mfrom\u001b[0m \u001b[1;33m.\u001b[0m\u001b[0m_smote\u001b[0m \u001b[1;32mimport\u001b[0m \u001b[0mKMeansSMOTE\u001b[0m\u001b[1;33m\u001b[0m\u001b[1;33m\u001b[0m\u001b[0m\n",
      "\u001b[1;32mD:\\Installation\\Anaconda\\lib\\site-packages\\imblearn\\over_sampling\\_smote\\__init__.py\u001b[0m in \u001b[0;36m<module>\u001b[1;34m\u001b[0m\n\u001b[0;32m      3\u001b[0m \u001b[1;32mfrom\u001b[0m \u001b[1;33m.\u001b[0m\u001b[0mbase\u001b[0m \u001b[1;32mimport\u001b[0m \u001b[0mSMOTENC\u001b[0m\u001b[1;33m\u001b[0m\u001b[1;33m\u001b[0m\u001b[0m\n\u001b[0;32m      4\u001b[0m \u001b[1;33m\u001b[0m\u001b[0m\n\u001b[1;32m----> 5\u001b[1;33m \u001b[1;32mfrom\u001b[0m \u001b[1;33m.\u001b[0m\u001b[0mcluster\u001b[0m \u001b[1;32mimport\u001b[0m \u001b[0mKMeansSMOTE\u001b[0m\u001b[1;33m\u001b[0m\u001b[1;33m\u001b[0m\u001b[0m\n\u001b[0m\u001b[0;32m      6\u001b[0m \u001b[1;33m\u001b[0m\u001b[0m\n\u001b[0;32m      7\u001b[0m \u001b[1;32mfrom\u001b[0m \u001b[1;33m.\u001b[0m\u001b[0mfilter\u001b[0m \u001b[1;32mimport\u001b[0m \u001b[0mBorderlineSMOTE\u001b[0m\u001b[1;33m\u001b[0m\u001b[1;33m\u001b[0m\u001b[0m\n",
      "\u001b[1;32mD:\\Installation\\Anaconda\\lib\\site-packages\\imblearn\\over_sampling\\_smote\\cluster.py\u001b[0m in \u001b[0;36m<module>\u001b[1;34m\u001b[0m\n\u001b[0;32m     12\u001b[0m \u001b[1;33m\u001b[0m\u001b[0m\n\u001b[0;32m     13\u001b[0m \u001b[1;32mfrom\u001b[0m \u001b[0msklearn\u001b[0m\u001b[1;33m.\u001b[0m\u001b[0mbase\u001b[0m \u001b[1;32mimport\u001b[0m \u001b[0mclone\u001b[0m\u001b[1;33m\u001b[0m\u001b[1;33m\u001b[0m\u001b[0m\n\u001b[1;32m---> 14\u001b[1;33m \u001b[1;32mfrom\u001b[0m \u001b[0msklearn\u001b[0m\u001b[1;33m.\u001b[0m\u001b[0mcluster\u001b[0m \u001b[1;32mimport\u001b[0m \u001b[0mMiniBatchKMeans\u001b[0m\u001b[1;33m\u001b[0m\u001b[1;33m\u001b[0m\u001b[0m\n\u001b[0m\u001b[0;32m     15\u001b[0m \u001b[1;32mfrom\u001b[0m \u001b[0msklearn\u001b[0m\u001b[1;33m.\u001b[0m\u001b[0mmetrics\u001b[0m \u001b[1;32mimport\u001b[0m \u001b[0mpairwise_distances\u001b[0m\u001b[1;33m\u001b[0m\u001b[1;33m\u001b[0m\u001b[0m\n\u001b[0;32m     16\u001b[0m \u001b[1;32mfrom\u001b[0m \u001b[0msklearn\u001b[0m\u001b[1;33m.\u001b[0m\u001b[0mutils\u001b[0m \u001b[1;32mimport\u001b[0m \u001b[0m_safe_indexing\u001b[0m\u001b[1;33m\u001b[0m\u001b[1;33m\u001b[0m\u001b[0m\n",
      "\u001b[1;32mD:\\Installation\\Anaconda\\lib\\site-packages\\sklearn\\cluster\\__init__.py\u001b[0m in \u001b[0;36m<module>\u001b[1;34m\u001b[0m\n\u001b[0;32m      4\u001b[0m \"\"\"\n\u001b[0;32m      5\u001b[0m \u001b[1;33m\u001b[0m\u001b[0m\n\u001b[1;32m----> 6\u001b[1;33m \u001b[1;32mfrom\u001b[0m \u001b[1;33m.\u001b[0m\u001b[0m_spectral\u001b[0m \u001b[1;32mimport\u001b[0m \u001b[0mspectral_clustering\u001b[0m\u001b[1;33m,\u001b[0m \u001b[0mSpectralClustering\u001b[0m\u001b[1;33m\u001b[0m\u001b[1;33m\u001b[0m\u001b[0m\n\u001b[0m\u001b[0;32m      7\u001b[0m \u001b[1;32mfrom\u001b[0m \u001b[1;33m.\u001b[0m\u001b[0m_mean_shift\u001b[0m \u001b[1;32mimport\u001b[0m \u001b[0mmean_shift\u001b[0m\u001b[1;33m,\u001b[0m \u001b[0mMeanShift\u001b[0m\u001b[1;33m,\u001b[0m \u001b[0mestimate_bandwidth\u001b[0m\u001b[1;33m,\u001b[0m \u001b[0mget_bin_seeds\u001b[0m\u001b[1;33m\u001b[0m\u001b[1;33m\u001b[0m\u001b[0m\n\u001b[0;32m      8\u001b[0m \u001b[1;32mfrom\u001b[0m \u001b[1;33m.\u001b[0m\u001b[0m_affinity_propagation\u001b[0m \u001b[1;32mimport\u001b[0m \u001b[0maffinity_propagation\u001b[0m\u001b[1;33m,\u001b[0m \u001b[0mAffinityPropagation\u001b[0m\u001b[1;33m\u001b[0m\u001b[1;33m\u001b[0m\u001b[0m\n",
      "\u001b[1;32mD:\\Installation\\Anaconda\\lib\\site-packages\\sklearn\\cluster\\_spectral.py\u001b[0m in \u001b[0;36m<module>\u001b[1;34m\u001b[0m\n\u001b[0;32m     19\u001b[0m \u001b[1;32mfrom\u001b[0m \u001b[1;33m.\u001b[0m\u001b[1;33m.\u001b[0m\u001b[0mmetrics\u001b[0m\u001b[1;33m.\u001b[0m\u001b[0mpairwise\u001b[0m \u001b[1;32mimport\u001b[0m \u001b[0mpairwise_kernels\u001b[0m\u001b[1;33m\u001b[0m\u001b[1;33m\u001b[0m\u001b[0m\n\u001b[0;32m     20\u001b[0m \u001b[1;32mfrom\u001b[0m \u001b[1;33m.\u001b[0m\u001b[1;33m.\u001b[0m\u001b[0mneighbors\u001b[0m \u001b[1;32mimport\u001b[0m \u001b[0mkneighbors_graph\u001b[0m\u001b[1;33m,\u001b[0m \u001b[0mNearestNeighbors\u001b[0m\u001b[1;33m\u001b[0m\u001b[1;33m\u001b[0m\u001b[0m\n\u001b[1;32m---> 21\u001b[1;33m \u001b[1;32mfrom\u001b[0m \u001b[1;33m.\u001b[0m\u001b[1;33m.\u001b[0m\u001b[0mmanifold\u001b[0m \u001b[1;32mimport\u001b[0m \u001b[0mspectral_embedding\u001b[0m\u001b[1;33m\u001b[0m\u001b[1;33m\u001b[0m\u001b[0m\n\u001b[0m\u001b[0;32m     22\u001b[0m \u001b[1;32mfrom\u001b[0m \u001b[1;33m.\u001b[0m\u001b[0m_kmeans\u001b[0m \u001b[1;32mimport\u001b[0m \u001b[0mk_means\u001b[0m\u001b[1;33m\u001b[0m\u001b[1;33m\u001b[0m\u001b[0m\n\u001b[0;32m     23\u001b[0m \u001b[1;33m\u001b[0m\u001b[0m\n",
      "\u001b[1;32mD:\\Installation\\Anaconda\\lib\\site-packages\\sklearn\\manifold\\__init__.py\u001b[0m in \u001b[0;36m<module>\u001b[1;34m\u001b[0m\n\u001b[0;32m      3\u001b[0m \"\"\"\n\u001b[0;32m      4\u001b[0m \u001b[1;33m\u001b[0m\u001b[0m\n\u001b[1;32m----> 5\u001b[1;33m \u001b[1;32mfrom\u001b[0m \u001b[1;33m.\u001b[0m\u001b[0m_locally_linear\u001b[0m \u001b[1;32mimport\u001b[0m \u001b[0mlocally_linear_embedding\u001b[0m\u001b[1;33m,\u001b[0m \u001b[0mLocallyLinearEmbedding\u001b[0m\u001b[1;33m\u001b[0m\u001b[1;33m\u001b[0m\u001b[0m\n\u001b[0m\u001b[0;32m      6\u001b[0m \u001b[1;32mfrom\u001b[0m \u001b[1;33m.\u001b[0m\u001b[0m_isomap\u001b[0m \u001b[1;32mimport\u001b[0m \u001b[0mIsomap\u001b[0m\u001b[1;33m\u001b[0m\u001b[1;33m\u001b[0m\u001b[0m\n\u001b[0;32m      7\u001b[0m \u001b[1;32mfrom\u001b[0m \u001b[1;33m.\u001b[0m\u001b[0m_mds\u001b[0m \u001b[1;32mimport\u001b[0m \u001b[0mMDS\u001b[0m\u001b[1;33m,\u001b[0m \u001b[0msmacof\u001b[0m\u001b[1;33m\u001b[0m\u001b[1;33m\u001b[0m\u001b[0m\n",
      "\u001b[1;32mD:\\Installation\\Anaconda\\lib\\site-packages\\sklearn\\manifold\\_locally_linear.py\u001b[0m in \u001b[0;36m<module>\u001b[1;34m\u001b[0m\n\u001b[0;32m     10\u001b[0m \u001b[1;32mfrom\u001b[0m \u001b[0mscipy\u001b[0m\u001b[1;33m.\u001b[0m\u001b[0msparse\u001b[0m\u001b[1;33m.\u001b[0m\u001b[0mlinalg\u001b[0m \u001b[1;32mimport\u001b[0m \u001b[0meigsh\u001b[0m\u001b[1;33m\u001b[0m\u001b[1;33m\u001b[0m\u001b[0m\n\u001b[0;32m     11\u001b[0m \u001b[1;33m\u001b[0m\u001b[0m\n\u001b[1;32m---> 12\u001b[1;33m from ..base import (\n\u001b[0m\u001b[0;32m     13\u001b[0m     \u001b[0mBaseEstimator\u001b[0m\u001b[1;33m,\u001b[0m\u001b[1;33m\u001b[0m\u001b[1;33m\u001b[0m\u001b[0m\n\u001b[0;32m     14\u001b[0m     \u001b[0mTransformerMixin\u001b[0m\u001b[1;33m,\u001b[0m\u001b[1;33m\u001b[0m\u001b[1;33m\u001b[0m\u001b[0m\n",
      "\u001b[1;31mImportError\u001b[0m: cannot import name '_ClassNamePrefixFeaturesOutMixin' from 'sklearn.base' (D:\\Installation\\Anaconda\\lib\\site-packages\\sklearn\\base.py)"
     ]
    }
   ],
   "source": [
    "from imblearn.over_sampling import SMOTE\n",
    "\n",
    "# counter = Counter(bank_train_y)\n",
    "print('Before \\n', bank_train_y.value_counts())\n",
    "\n",
    "smt = SMOTE()\n",
    "\n",
    "bank_train_x_sm, bank_train_y_sm = smt.fit_resample(bank_train_x, bank_train_y)\n",
    "\n",
    "print('====================\\nAfter \\n', bank_train_y_sm.value_counts())"
   ]
  },
  {
   "cell_type": "markdown",
   "id": "4d96d392",
   "metadata": {},
   "source": [
    "<h5> e. Standardize the data using the anyone of the scalers provided by sklearn </h5>"
   ]
  },
  {
   "cell_type": "code",
   "execution_count": 69,
   "id": "bcfe2240",
   "metadata": {},
   "outputs": [],
   "source": [
    "from sklearn.preprocessing import StandardScaler, normalize\n",
    "\n",
    "scalar = StandardScaler()\n",
    "bank_sns1 = scalar.fit_transform(bank)"
   ]
  },
  {
   "cell_type": "markdown",
   "id": "4995f5e8",
   "metadata": {},
   "source": [
    "<h3>Q3. Build the following Supervised Learning models:</h3>"
   ]
  },
  {
   "cell_type": "code",
   "execution_count": 70,
   "id": "bac5c00d",
   "metadata": {},
   "outputs": [],
   "source": [
    "model_name_lst = []\n",
    "\n",
    "AccuracyScore = []\n",
    "PrecisionScore = []\n",
    "Recall_Score = []\n",
    "F1_score = []\n",
    "Roc_Scr = []\n",
    "\n",
    "\n",
    "def model_scores(model_name, model_obj):\n",
    "    \n",
    "    pred_y = model_obj.predict(bank_test_x)\n",
    "    \n",
    "#     print(pred_y)\n",
    "    \n",
    "#     ConfusionMatrix = confusion_matrix(pr_test_y, pr_pred_y) \n",
    "#     print('ConfusionMatrix')\n",
    "#     print(ConfusionMatrix,'\\n')\n",
    "\n",
    "    AccuracyScore.append(np.round((model_obj.score(bank_test_x, bank_test_y))*100))\n",
    "\n",
    "    PrecisionScore.append(((precision_score(bank_test_y, pred_y))*100).round(2))\n",
    "\n",
    "    Recall_Score.append(((recall_score(bank_test_y, pred_y))*100).round(2))\n",
    "\n",
    "    F1_score.append(((f1_score(bank_test_y, pred_y))*100).round(2))\n",
    "\n",
    "    Roc_Scr.append(((roc_auc_score(bank_test_y, pred_y))*100).round(2))\n",
    "\n",
    "    model_name_lst.append(model_name)\n"
   ]
  },
  {
   "cell_type": "markdown",
   "id": "e98137ff",
   "metadata": {},
   "source": [
    "<h3>Logistic Regression classification</h3>"
   ]
  },
  {
   "cell_type": "code",
   "execution_count": 71,
   "id": "2e923e45",
   "metadata": {},
   "outputs": [
    {
     "name": "stderr",
     "output_type": "stream",
     "text": [
      "C:\\Users\\PRIME\\anaconda3\\lib\\site-packages\\sklearn\\linear_model\\_logistic.py:763: ConvergenceWarning: lbfgs failed to converge (status=1):\n",
      "STOP: TOTAL NO. of ITERATIONS REACHED LIMIT.\n",
      "\n",
      "Increase the number of iterations (max_iter) or scale the data as shown in:\n",
      "    https://scikit-learn.org/stable/modules/preprocessing.html\n",
      "Please also refer to the documentation for alternative solver options:\n",
      "    https://scikit-learn.org/stable/modules/linear_model.html#logistic-regression\n",
      "  n_iter_i = _check_optimize_result(\n"
     ]
    }
   ],
   "source": [
    "logreg = LogisticRegression(max_iter  =500)\n",
    "logreg.fit(bank_train_x_sm, bank_train_y_sm)\n",
    "\n",
    "# pred_y = logreg.predict(bank_test_x)\n",
    "\n",
    "model_scores('Logistic Reg', logreg)"
   ]
  },
  {
   "cell_type": "markdown",
   "id": "683c2edf",
   "metadata": {},
   "source": [
    "<h3>Ada Boost Classifier</h3>"
   ]
  },
  {
   "cell_type": "code",
   "execution_count": 72,
   "id": "8ebf246d",
   "metadata": {},
   "outputs": [],
   "source": [
    "ada = AdaBoostClassifier()\n",
    "ada.fit(bank_train_x_sm, bank_train_y_sm)\n",
    "model_scores('Ada Boost', ada)"
   ]
  },
  {
   "cell_type": "markdown",
   "id": "3310abf7",
   "metadata": {},
   "source": [
    "<h3>Naive Bayes</h3>"
   ]
  },
  {
   "cell_type": "code",
   "execution_count": 73,
   "id": "bdc90160",
   "metadata": {},
   "outputs": [],
   "source": [
    "nb = GaussianNB()\n",
    "nb.fit(bank_train_x_sm, bank_train_y_sm)\n",
    "model_scores('Naive Bayes', nb)"
   ]
  },
  {
   "cell_type": "markdown",
   "id": "006706b8",
   "metadata": {},
   "source": [
    "<h3>KNN</h3>"
   ]
  },
  {
   "cell_type": "code",
   "execution_count": 74,
   "id": "a0ffbc17",
   "metadata": {},
   "outputs": [],
   "source": [
    "knn = KNeighborsClassifier(n_neighbors=5)\n",
    "knn.fit(bank_train_x_sm, bank_train_y_sm)\n",
    "model_scores('KNN', knn)"
   ]
  },
  {
   "cell_type": "markdown",
   "id": "e7713e9f",
   "metadata": {},
   "source": [
    "<h3>Support Vector Machine</h3>"
   ]
  },
  {
   "cell_type": "code",
   "execution_count": 75,
   "id": "0b33fb0a",
   "metadata": {},
   "outputs": [],
   "source": [
    "svm = SVC()\n",
    "svm.fit(bank_train_x_sm, bank_train_y_sm)\n",
    "model_scores('SVM', svm)"
   ]
  },
  {
   "cell_type": "markdown",
   "id": "357bb0e5",
   "metadata": {},
   "source": [
    "<h3>Q4] Tabulate the performance metrics of all the above models\n",
    "and tell which model performs better in predicting if the\n",
    "client will subscribe to term deposit or not </h3>"
   ]
  },
  {
   "cell_type": "markdown",
   "id": "05cd9e97",
   "metadata": {},
   "source": [
    "<h3>Performance Metrics of all the above models </h3>"
   ]
  },
  {
   "cell_type": "code",
   "execution_count": 76,
   "id": "5cb65f6c",
   "metadata": {},
   "outputs": [
    {
     "data": {
      "text/html": [
       "<div>\n",
       "<style scoped>\n",
       "    .dataframe tbody tr th:only-of-type {\n",
       "        vertical-align: middle;\n",
       "    }\n",
       "\n",
       "    .dataframe tbody tr th {\n",
       "        vertical-align: top;\n",
       "    }\n",
       "\n",
       "    .dataframe thead th {\n",
       "        text-align: right;\n",
       "    }\n",
       "</style>\n",
       "<table border=\"1\" class=\"dataframe\">\n",
       "  <thead>\n",
       "    <tr style=\"text-align: right;\">\n",
       "      <th></th>\n",
       "      <th>Accuracy Score</th>\n",
       "      <th>Precision Score</th>\n",
       "      <th>Recall Score</th>\n",
       "      <th>F1 score</th>\n",
       "      <th>Roc Scr</th>\n",
       "    </tr>\n",
       "  </thead>\n",
       "  <tbody>\n",
       "    <tr>\n",
       "      <th>Ada Boost</th>\n",
       "      <td>88.0</td>\n",
       "      <td>47.98</td>\n",
       "      <td>71.32</td>\n",
       "      <td>57.37</td>\n",
       "      <td>80.82</td>\n",
       "    </tr>\n",
       "    <tr>\n",
       "      <th>Logistic Reg</th>\n",
       "      <td>86.0</td>\n",
       "      <td>42.97</td>\n",
       "      <td>80.59</td>\n",
       "      <td>56.05</td>\n",
       "      <td>83.59</td>\n",
       "    </tr>\n",
       "    <tr>\n",
       "      <th>KNN</th>\n",
       "      <td>86.0</td>\n",
       "      <td>42.76</td>\n",
       "      <td>79.28</td>\n",
       "      <td>55.56</td>\n",
       "      <td>82.99</td>\n",
       "    </tr>\n",
       "    <tr>\n",
       "      <th>SVM</th>\n",
       "      <td>84.0</td>\n",
       "      <td>39.70</td>\n",
       "      <td>85.93</td>\n",
       "      <td>54.31</td>\n",
       "      <td>84.79</td>\n",
       "    </tr>\n",
       "    <tr>\n",
       "      <th>Naive Bayes</th>\n",
       "      <td>78.0</td>\n",
       "      <td>29.17</td>\n",
       "      <td>70.56</td>\n",
       "      <td>41.28</td>\n",
       "      <td>74.55</td>\n",
       "    </tr>\n",
       "  </tbody>\n",
       "</table>\n",
       "</div>"
      ],
      "text/plain": [
       "              Accuracy Score  Precision Score  Recall Score  F1 score  Roc Scr\n",
       "Ada Boost               88.0            47.98         71.32     57.37    80.82\n",
       "Logistic Reg            86.0            42.97         80.59     56.05    83.59\n",
       "KNN                     86.0            42.76         79.28     55.56    82.99\n",
       "SVM                     84.0            39.70         85.93     54.31    84.79\n",
       "Naive Bayes             78.0            29.17         70.56     41.28    74.55"
      ]
     },
     "execution_count": 76,
     "metadata": {},
     "output_type": "execute_result"
    }
   ],
   "source": [
    "Scores = pd.DataFrame({'Accuracy Score' : AccuracyScore, 'Precision Score': PrecisionScore, 'Recall Score': Recall_Score, 'F1 score': F1_score, 'Roc Scr':Roc_Scr}, index= [model_name_lst])\n",
    "df = Scores.sort_values('Precision Score', ascending=False)\n",
    "df"
   ]
  },
  {
   "cell_type": "markdown",
   "id": "84d447fb",
   "metadata": {},
   "source": [
    "<h2>Part II</h2>"
   ]
  },
  {
   "cell_type": "code",
   "execution_count": 77,
   "id": "31b4b95a",
   "metadata": {},
   "outputs": [],
   "source": [
    "import numpy as np\n",
    "import matplotlib.pyplot as plt\n",
    "import pandas as pd\n",
    "\n",
    "from statsmodels.graphics.tsaplots import plot_acf, plot_pacf\n",
    "from statsmodels.tsa.arima.model import ARIMA\n",
    "\n",
    "from statsmodels.tsa.seasonal import seasonal_decompose\n",
    "from statsmodels.tsa.statespace.sarimax import SARIMAX\n"
   ]
  },
  {
   "cell_type": "code",
   "execution_count": 78,
   "id": "29551755",
   "metadata": {},
   "outputs": [
    {
     "data": {
      "text/html": [
       "<div>\n",
       "<style scoped>\n",
       "    .dataframe tbody tr th:only-of-type {\n",
       "        vertical-align: middle;\n",
       "    }\n",
       "\n",
       "    .dataframe tbody tr th {\n",
       "        vertical-align: top;\n",
       "    }\n",
       "\n",
       "    .dataframe thead th {\n",
       "        text-align: right;\n",
       "    }\n",
       "</style>\n",
       "<table border=\"1\" class=\"dataframe\">\n",
       "  <thead>\n",
       "    <tr style=\"text-align: right;\">\n",
       "      <th></th>\n",
       "      <th>market</th>\n",
       "      <th>month</th>\n",
       "      <th>year</th>\n",
       "      <th>quantity</th>\n",
       "      <th>priceMin</th>\n",
       "      <th>priceMax</th>\n",
       "      <th>priceMod</th>\n",
       "      <th>state</th>\n",
       "      <th>city</th>\n",
       "      <th>date</th>\n",
       "    </tr>\n",
       "  </thead>\n",
       "  <tbody>\n",
       "    <tr>\n",
       "      <th>0</th>\n",
       "      <td>ABOHAR(PB)</td>\n",
       "      <td>January</td>\n",
       "      <td>2005</td>\n",
       "      <td>2350</td>\n",
       "      <td>404</td>\n",
       "      <td>493</td>\n",
       "      <td>446</td>\n",
       "      <td>PB</td>\n",
       "      <td>ABOHAR</td>\n",
       "      <td>January-2005</td>\n",
       "    </tr>\n",
       "    <tr>\n",
       "      <th>1</th>\n",
       "      <td>ABOHAR(PB)</td>\n",
       "      <td>January</td>\n",
       "      <td>2006</td>\n",
       "      <td>900</td>\n",
       "      <td>487</td>\n",
       "      <td>638</td>\n",
       "      <td>563</td>\n",
       "      <td>PB</td>\n",
       "      <td>ABOHAR</td>\n",
       "      <td>January-2006</td>\n",
       "    </tr>\n",
       "    <tr>\n",
       "      <th>2</th>\n",
       "      <td>ABOHAR(PB)</td>\n",
       "      <td>January</td>\n",
       "      <td>2010</td>\n",
       "      <td>790</td>\n",
       "      <td>1283</td>\n",
       "      <td>1592</td>\n",
       "      <td>1460</td>\n",
       "      <td>PB</td>\n",
       "      <td>ABOHAR</td>\n",
       "      <td>January-2010</td>\n",
       "    </tr>\n",
       "    <tr>\n",
       "      <th>3</th>\n",
       "      <td>ABOHAR(PB)</td>\n",
       "      <td>January</td>\n",
       "      <td>2011</td>\n",
       "      <td>245</td>\n",
       "      <td>3067</td>\n",
       "      <td>3750</td>\n",
       "      <td>3433</td>\n",
       "      <td>PB</td>\n",
       "      <td>ABOHAR</td>\n",
       "      <td>January-2011</td>\n",
       "    </tr>\n",
       "    <tr>\n",
       "      <th>4</th>\n",
       "      <td>ABOHAR(PB)</td>\n",
       "      <td>January</td>\n",
       "      <td>2012</td>\n",
       "      <td>1035</td>\n",
       "      <td>523</td>\n",
       "      <td>686</td>\n",
       "      <td>605</td>\n",
       "      <td>PB</td>\n",
       "      <td>ABOHAR</td>\n",
       "      <td>January-2012</td>\n",
       "    </tr>\n",
       "  </tbody>\n",
       "</table>\n",
       "</div>"
      ],
      "text/plain": [
       "       market    month  year  quantity  priceMin  priceMax  priceMod state  \\\n",
       "0  ABOHAR(PB)  January  2005      2350       404       493       446    PB   \n",
       "1  ABOHAR(PB)  January  2006       900       487       638       563    PB   \n",
       "2  ABOHAR(PB)  January  2010       790      1283      1592      1460    PB   \n",
       "3  ABOHAR(PB)  January  2011       245      3067      3750      3433    PB   \n",
       "4  ABOHAR(PB)  January  2012      1035       523       686       605    PB   \n",
       "\n",
       "     city          date  \n",
       "0  ABOHAR  January-2005  \n",
       "1  ABOHAR  January-2006  \n",
       "2  ABOHAR  January-2010  \n",
       "3  ABOHAR  January-2011  \n",
       "4  ABOHAR  January-2012  "
      ]
     },
     "execution_count": 78,
     "metadata": {},
     "output_type": "execute_result"
    }
   ],
   "source": [
    "tm = pd.read_csv('MonthWiseMarketArrivals_Clean.csv')\n",
    "tm.head()"
   ]
  },
  {
   "cell_type": "code",
   "execution_count": 79,
   "id": "f794544b",
   "metadata": {},
   "outputs": [
    {
     "data": {
      "text/plain": [
       "(10227, 10)"
      ]
     },
     "execution_count": 79,
     "metadata": {},
     "output_type": "execute_result"
    }
   ],
   "source": [
    "tm.shape"
   ]
  },
  {
   "cell_type": "markdown",
   "id": "708b7f7a",
   "metadata": {},
   "source": [
    "<h4>Q1. Get the modal price of onion for each month for the Mumbai\n",
    "market (Hint: set monthly date as index and drop\n",
    "redundant columns)<h4>"
   ]
  },
  {
   "cell_type": "code",
   "execution_count": 80,
   "id": "dfd115b4",
   "metadata": {
    "scrolled": true
   },
   "outputs": [
    {
     "data": {
      "text/html": [
       "<div>\n",
       "<style scoped>\n",
       "    .dataframe tbody tr th:only-of-type {\n",
       "        vertical-align: middle;\n",
       "    }\n",
       "\n",
       "    .dataframe tbody tr th {\n",
       "        vertical-align: top;\n",
       "    }\n",
       "\n",
       "    .dataframe thead th {\n",
       "        text-align: right;\n",
       "    }\n",
       "</style>\n",
       "<table border=\"1\" class=\"dataframe\">\n",
       "  <thead>\n",
       "    <tr style=\"text-align: right;\">\n",
       "      <th></th>\n",
       "      <th>priceMod</th>\n",
       "    </tr>\n",
       "    <tr>\n",
       "      <th>month</th>\n",
       "      <th></th>\n",
       "    </tr>\n",
       "  </thead>\n",
       "  <tbody>\n",
       "    <tr>\n",
       "      <th>April</th>\n",
       "      <td>576.16</td>\n",
       "    </tr>\n",
       "    <tr>\n",
       "      <th>August</th>\n",
       "      <td>1288.90</td>\n",
       "    </tr>\n",
       "    <tr>\n",
       "      <th>December</th>\n",
       "      <td>1119.03</td>\n",
       "    </tr>\n",
       "    <tr>\n",
       "      <th>February</th>\n",
       "      <td>821.59</td>\n",
       "    </tr>\n",
       "    <tr>\n",
       "      <th>January</th>\n",
       "      <td>986.30</td>\n",
       "    </tr>\n",
       "    <tr>\n",
       "      <th>July</th>\n",
       "      <td>926.93</td>\n",
       "    </tr>\n",
       "    <tr>\n",
       "      <th>June</th>\n",
       "      <td>729.13</td>\n",
       "    </tr>\n",
       "    <tr>\n",
       "      <th>March</th>\n",
       "      <td>642.42</td>\n",
       "    </tr>\n",
       "    <tr>\n",
       "      <th>May</th>\n",
       "      <td>576.93</td>\n",
       "    </tr>\n",
       "    <tr>\n",
       "      <th>November</th>\n",
       "      <td>1288.06</td>\n",
       "    </tr>\n",
       "    <tr>\n",
       "      <th>October</th>\n",
       "      <td>1406.47</td>\n",
       "    </tr>\n",
       "    <tr>\n",
       "      <th>September</th>\n",
       "      <td>1439.47</td>\n",
       "    </tr>\n",
       "  </tbody>\n",
       "</table>\n",
       "</div>"
      ],
      "text/plain": [
       "           priceMod\n",
       "month              \n",
       "April        576.16\n",
       "August      1288.90\n",
       "December    1119.03\n",
       "February     821.59\n",
       "January      986.30\n",
       "July         926.93\n",
       "June         729.13\n",
       "March        642.42\n",
       "May          576.93\n",
       "November    1288.06\n",
       "October     1406.47\n",
       "September   1439.47"
      ]
     },
     "execution_count": 80,
     "metadata": {},
     "output_type": "execute_result"
    }
   ],
   "source": [
    "de = pd.DataFrame(tm.groupby('month').priceMod.mean().round(2))\n",
    "de.sort_index()"
   ]
  },
  {
   "cell_type": "code",
   "execution_count": 81,
   "id": "1512f0cf",
   "metadata": {},
   "outputs": [],
   "source": [
    "# Group the Data according to each month of the year in a sorted manner\n",
    "date = pd.DataFrame(tm.groupby('date').priceMod.mean().round(2))\n",
    "date.sort_index()\n",
    "\n",
    "# Reset the index as an individual coulumn for converting into an integer format\n",
    "date.reset_index(level=0, inplace = True)"
   ]
  },
  {
   "cell_type": "code",
   "execution_count": 82,
   "id": "e13b0ac0",
   "metadata": {},
   "outputs": [
    {
     "data": {
      "text/html": [
       "<div>\n",
       "<style scoped>\n",
       "    .dataframe tbody tr th:only-of-type {\n",
       "        vertical-align: middle;\n",
       "    }\n",
       "\n",
       "    .dataframe tbody tr th {\n",
       "        vertical-align: top;\n",
       "    }\n",
       "\n",
       "    .dataframe thead th {\n",
       "        text-align: right;\n",
       "    }\n",
       "</style>\n",
       "<table border=\"1\" class=\"dataframe\">\n",
       "  <thead>\n",
       "    <tr style=\"text-align: right;\">\n",
       "      <th></th>\n",
       "      <th>month</th>\n",
       "      <th>year</th>\n",
       "      <th>full_Date</th>\n",
       "    </tr>\n",
       "  </thead>\n",
       "  <tbody>\n",
       "    <tr>\n",
       "      <th>0</th>\n",
       "      <td>4</td>\n",
       "      <td>1996</td>\n",
       "      <td>1996-4</td>\n",
       "    </tr>\n",
       "    <tr>\n",
       "      <th>1</th>\n",
       "      <td>4</td>\n",
       "      <td>1997</td>\n",
       "      <td>1997-4</td>\n",
       "    </tr>\n",
       "    <tr>\n",
       "      <th>2</th>\n",
       "      <td>4</td>\n",
       "      <td>1998</td>\n",
       "      <td>1998-4</td>\n",
       "    </tr>\n",
       "    <tr>\n",
       "      <th>3</th>\n",
       "      <td>4</td>\n",
       "      <td>1999</td>\n",
       "      <td>1999-4</td>\n",
       "    </tr>\n",
       "    <tr>\n",
       "      <th>4</th>\n",
       "      <td>4</td>\n",
       "      <td>2000</td>\n",
       "      <td>2000-4</td>\n",
       "    </tr>\n",
       "  </tbody>\n",
       "</table>\n",
       "</div>"
      ],
      "text/plain": [
       "   month  year full_Date\n",
       "0      4  1996    1996-4\n",
       "1      4  1997    1997-4\n",
       "2      4  1998    1998-4\n",
       "3      4  1999    1999-4\n",
       "4      4  2000    2000-4"
      ]
     },
     "execution_count": 82,
     "metadata": {},
     "output_type": "execute_result"
    }
   ],
   "source": [
    "# Process the date column as per requirement in a different DF and add to the original DF\n",
    "\n",
    "date2 = date['date'].str.split('-', expand = True)\n",
    "date2.rename(columns = {0: 'month', 1:'year'}, inplace=True)\n",
    "date2['month'] = date2['month'].replace({'January':1, 'February':2, 'March':3, 'April':4, 'May':5, 'June':6, 'July':7, \n",
    "                             'August':8, 'September':9, 'October':10, 'November':11, 'December':12})\n",
    "date2['full_Date'] = date2['year'].astype(str)+'-'+date2['month'].astype(str)\n",
    "date2.head()\n"
   ]
  },
  {
   "cell_type": "code",
   "execution_count": 83,
   "id": "2882eacc",
   "metadata": {},
   "outputs": [],
   "source": [
    "# Add the processed Date column to the original Dataframe\n",
    "\n",
    "date['Date'] = date2['full_Date']\n",
    "date.drop(['date'], inplace= True, axis = 1)\n",
    "\n",
    "date.Date = pd.to_datetime(date.Date, infer_datetime_format=True)\n",
    "date_index = date.set_index(['Date'])"
   ]
  },
  {
   "cell_type": "code",
   "execution_count": 84,
   "id": "fb53607f",
   "metadata": {},
   "outputs": [
    {
     "name": "stdout",
     "output_type": "stream",
     "text": [
      "<class 'pandas.core.frame.DataFrame'>\n",
      "DatetimeIndex: 242 entries, 1996-04-01 to 2015-09-01\n",
      "Data columns (total 1 columns):\n",
      " #   Column    Non-Null Count  Dtype  \n",
      "---  ------    --------------  -----  \n",
      " 0   priceMod  242 non-null    float64\n",
      "dtypes: float64(1)\n",
      "memory usage: 3.8 KB\n"
     ]
    }
   ],
   "source": [
    "date_index.info()"
   ]
  },
  {
   "cell_type": "code",
   "execution_count": 85,
   "id": "10ec1f42",
   "metadata": {},
   "outputs": [],
   "source": [
    "date_index = date_index.sort_index()"
   ]
  },
  {
   "cell_type": "markdown",
   "id": "6d053d04",
   "metadata": {},
   "source": [
    "<h4>Q2. Build time series model and check the performance of the model using RMSE</h4>"
   ]
  },
  {
   "cell_type": "code",
   "execution_count": 86,
   "id": "da534939",
   "metadata": {},
   "outputs": [
    {
     "data": {
      "image/png": "[encoded data removed]",
      "text/plain": [
       "<Figure size 432x288 with 4 Axes>"
      ]
     },
     "metadata": {
      "needs_background": "light"
     },
     "output_type": "display_data"
    }
   ],
   "source": [
    "date_index_log = np.log(date_index)\n",
    "# result =  seasonal_decompose( tm_index_log.priceMod, period=10)\n",
    "result =  seasonal_decompose( date_index.priceMod , period=12)\n",
    "result.plot();"
   ]
  },
  {
   "cell_type": "code",
   "execution_count": 87,
   "id": "3c70af17",
   "metadata": {},
   "outputs": [
    {
     "data": {
      "text/plain": [
       "(242, 1)"
      ]
     },
     "execution_count": 87,
     "metadata": {},
     "output_type": "execute_result"
    }
   ],
   "source": [
    "date_index_log.shape"
   ]
  },
  {
   "cell_type": "code",
   "execution_count": 170,
   "id": "ad1393ea",
   "metadata": {
    "scrolled": true
   },
   "outputs": [
    {
     "name": "stderr",
     "output_type": "stream",
     "text": [
      "C:\\Users\\PRIME\\anaconda3\\lib\\site-packages\\statsmodels\\tsa\\base\\tsa_model.py:471: ValueWarning: No frequency information was provided, so inferred frequency MS will be used.\n",
      "  self._init_dates(dates, freq)\n",
      "C:\\Users\\PRIME\\anaconda3\\lib\\site-packages\\statsmodels\\tsa\\base\\tsa_model.py:471: ValueWarning: No frequency information was provided, so inferred frequency MS will be used.\n",
      "  self._init_dates(dates, freq)\n"
     ]
    }
   ],
   "source": [
    "# Build Model using SARIMAX\n",
    "\n",
    "train = date_index_log[0:229]\n",
    "test = date_index_log[229:]\n",
    "\n",
    "model_sarima = SARIMAX(train, order=(10, 0, 0), seasonal_order=(0, 2, 0, 12))"
   ]
  },
  {
   "cell_type": "code",
   "execution_count": 171,
   "id": "e844ba0a",
   "metadata": {},
   "outputs": [],
   "source": [
    "results = model_sarima.fit()"
   ]
  },
  {
   "cell_type": "code",
   "execution_count": 172,
   "id": "023de937",
   "metadata": {},
   "outputs": [
    {
     "data": {
      "text/plain": [
       "1996-01-01    0.000000\n",
       "1996-02-01    0.000003\n",
       "1996-03-01    0.000006\n",
       "1996-04-01    0.000007\n",
       "1996-05-01    0.000008\n",
       "                ...   \n",
       "2014-09-01    7.577697\n",
       "2014-10-01    7.104526\n",
       "2014-11-01    7.565544\n",
       "2014-12-01    7.043977\n",
       "2015-01-01    7.205756\n",
       "Freq: MS, Name: predicted_mean, Length: 229, dtype: float64"
      ]
     },
     "execution_count": 172,
     "metadata": {},
     "output_type": "execute_result"
    }
   ],
   "source": [
    "results.predict()    #<- it prredicted for all the data we trained it on"
   ]
  },
  {
   "cell_type": "code",
   "execution_count": 173,
   "id": "24bd2379",
   "metadata": {},
   "outputs": [],
   "source": [
    "pred_result = results.predict(start = 231, end =242)\n",
    "\n",
    "# pred_result = results.forecast(steps = 12)\n",
    "\n",
    "pred_result_actual_scale = pd.DataFrame(np.exp(pred_result).round(2))\n",
    "\n",
    "date_for_pred = ['2015-03-01', '2015-04-01','2015-05-01', '2015-06-01','2015-07-01','2015-08-01','2015-09-01',\n",
    "'2015-10-01','2015-11-01','2015-12-01','2016-01-01','2016-02-01']\n",
    "\n",
    "# pred_result_actual_scale = pd.concat([pred_result_actual_scale, pd.Series(date_for_pred)], axis = 1 )\n",
    "\n",
    "pred_result_actual_scale['Date'] =  date_for_pred\n",
    "\n",
    "pred_result_actual_scale.rename(columns={pred_result_actual_scale.columns[0]:'Predicted'}, inplace = True)\n",
    "\n",
    "pred_result_actual_scale.rename(columns={pred_result_actual_scale.columns[1] : 'Date'}, inplace = True)\n",
    "\n",
    "pred_result_actual_scale.Date = pd.to_datetime(pred_result_actual_scale.Date, infer_datetime_format=True)\n",
    "\n",
    "pred_result_actual_scale = pred_result_actual_scale.set_index(['Date'])"
   ]
  },
  {
   "cell_type": "code",
   "execution_count": 174,
   "id": "7600ffc8",
   "metadata": {},
   "outputs": [
    {
     "data": {
      "text/html": [
       "<div>\n",
       "<style scoped>\n",
       "    .dataframe tbody tr th:only-of-type {\n",
       "        vertical-align: middle;\n",
       "    }\n",
       "\n",
       "    .dataframe tbody tr th {\n",
       "        vertical-align: top;\n",
       "    }\n",
       "\n",
       "    .dataframe thead th {\n",
       "        text-align: right;\n",
       "    }\n",
       "</style>\n",
       "<table border=\"1\" class=\"dataframe\">\n",
       "  <thead>\n",
       "    <tr style=\"text-align: right;\">\n",
       "      <th></th>\n",
       "      <th>Predicted</th>\n",
       "    </tr>\n",
       "    <tr>\n",
       "      <th>Date</th>\n",
       "      <th></th>\n",
       "    </tr>\n",
       "  </thead>\n",
       "  <tbody>\n",
       "    <tr>\n",
       "      <th>2015-03-01</th>\n",
       "      <td>1350.13</td>\n",
       "    </tr>\n",
       "    <tr>\n",
       "      <th>2015-04-01</th>\n",
       "      <td>1401.64</td>\n",
       "    </tr>\n",
       "    <tr>\n",
       "      <th>2015-05-01</th>\n",
       "      <td>1689.02</td>\n",
       "    </tr>\n",
       "    <tr>\n",
       "      <th>2015-06-01</th>\n",
       "      <td>3926.21</td>\n",
       "    </tr>\n",
       "    <tr>\n",
       "      <th>2015-07-01</th>\n",
       "      <td>2944.03</td>\n",
       "    </tr>\n",
       "    <tr>\n",
       "      <th>2015-08-01</th>\n",
       "      <td>3385.57</td>\n",
       "    </tr>\n",
       "    <tr>\n",
       "      <th>2015-09-01</th>\n",
       "      <td>3566.13</td>\n",
       "    </tr>\n",
       "    <tr>\n",
       "      <th>2015-10-01</th>\n",
       "      <td>2860.69</td>\n",
       "    </tr>\n",
       "    <tr>\n",
       "      <th>2015-11-01</th>\n",
       "      <td>2901.47</td>\n",
       "    </tr>\n",
       "    <tr>\n",
       "      <th>2015-12-01</th>\n",
       "      <td>1891.39</td>\n",
       "    </tr>\n",
       "    <tr>\n",
       "      <th>2016-01-01</th>\n",
       "      <td>1079.84</td>\n",
       "    </tr>\n",
       "    <tr>\n",
       "      <th>2016-02-01</th>\n",
       "      <td>1590.95</td>\n",
       "    </tr>\n",
       "  </tbody>\n",
       "</table>\n",
       "</div>"
      ],
      "text/plain": [
       "            Predicted\n",
       "Date                 \n",
       "2015-03-01    1350.13\n",
       "2015-04-01    1401.64\n",
       "2015-05-01    1689.02\n",
       "2015-06-01    3926.21\n",
       "2015-07-01    2944.03\n",
       "2015-08-01    3385.57\n",
       "2015-09-01    3566.13\n",
       "2015-10-01    2860.69\n",
       "2015-11-01    2901.47\n",
       "2015-12-01    1891.39\n",
       "2016-01-01    1079.84\n",
       "2016-02-01    1590.95"
      ]
     },
     "execution_count": 174,
     "metadata": {},
     "output_type": "execute_result"
    }
   ],
   "source": [
    "import math\n",
    "\n",
    "MSE = np.mean(np.square(error))\n",
    "RMSE = math.sqrt(MSE)\n",
    "mape = np.mean(np.abs(error *100 /pred_result_actual_scale['Predicted']))\n",
    "\n",
    "print(\"Mean Square Error :\", round(MSE,2))\n",
    "print(\"Root Mean Square Error :\", round(RMSE, 2))\n",
    "print(\"Mean Absolute Percentage Error :\", round(mape, 2))"
   ]
  },
  {
   "cell_type": "code",
   "execution_count": 175,
   "id": "7eee335c",
   "metadata": {},
   "outputs": [
    {
     "data": {
      "text/plain": [
       "<AxesSubplot:xlabel='Date'>"
      ]
     },
     "execution_count": 175,
     "metadata": {},
     "output_type": "execute_result"
    },
    {
     "data": {
      "image/png": "[encoded data removed]",
      "text/plain": [
       "<Figure size 432x288 with 1 Axes>"
      ]
     },
     "metadata": {
      "needs_background": "light"
     },
     "output_type": "display_data"
    }
   ],
   "source": [
    "date_index_log.plot()"
   ]
  },
  {
   "cell_type": "markdown",
   "id": "c0e99189",
   "metadata": {},
   "source": [
    "<h4>Q3. Plot ACF and PACF plots</h4>"
   ]
  },
  {
   "cell_type": "code",
   "execution_count": 176,
   "id": "5972d5be",
   "metadata": {
    "scrolled": false
   },
   "outputs": [
    {
     "data": {
      "image/png": "[encoded data removed]",
      "text/plain": [
       "<Figure size 432x288 with 1 Axes>"
      ]
     },
     "metadata": {
      "needs_background": "light"
     },
     "output_type": "display_data"
    }
   ],
   "source": [
    "# ACF Plots\n",
    "\n",
    "plot_acf(date_index_log.priceMod, lags = 30);"
   ]
  },
  {
   "cell_type": "code",
   "execution_count": 177,
   "id": "c96926c4",
   "metadata": {},
   "outputs": [
    {
     "name": "stderr",
     "output_type": "stream",
     "text": [
      "C:\\Users\\PRIME\\anaconda3\\lib\\site-packages\\statsmodels\\graphics\\tsaplots.py:348: FutureWarning: The default method 'yw' can produce PACF values outside of the [-1,1] interval. After 0.13, the default will change tounadjusted Yule-Walker ('ywm'). You can use this method now by setting method='ywm'.\n",
      "  warnings.warn(\n"
     ]
    },
    {
     "data": {
      "image/png": "[encoded data removed]",
      "text/plain": [
       "<Figure size 432x288 with 1 Axes>"
      ]
     },
     "metadata": {
      "needs_background": "light"
     },
     "output_type": "display_data"
    }
   ],
   "source": [
    "# PACF Plots\n",
    "\n",
    "plot_pacf(date_index_log.priceMod, lags = 50);"
   ]
  },
  {
   "cell_type": "markdown",
   "id": "0a7f7bca",
   "metadata": {},
   "source": [
    "<h4>Q4. Exponential smoothing using Holt-Winter’s technique and Forecast onion price for Mumbai market</h4>\n",
    "\n",
    "Forecasting the Onion Prices for the next 12 months and validating it against the test set"
   ]
  },
  {
   "cell_type": "code",
   "execution_count": 178,
   "id": "4f9cf169",
   "metadata": {},
   "outputs": [],
   "source": [
    "train_unlog = np.exp(train).round(2)\n",
    "test_unlog = np.exp(test).round(2)"
   ]
  },
  {
   "cell_type": "code",
   "execution_count": 180,
   "id": "2d46273d",
   "metadata": {},
   "outputs": [
    {
     "data": {
      "text/plain": [
       "<AxesSubplot:xlabel='Date'>"
      ]
     },
     "execution_count": 180,
     "metadata": {},
     "output_type": "execute_result"
    },
    {
     "data": {
      "image/png": "[encoded data removed]",
      "text/plain": [
       "<Figure size 432x288 with 1 Axes>"
      ]
     },
     "metadata": {
      "needs_background": "light"
     },
     "output_type": "display_data"
    }
   ],
   "source": [
    "train_unlog['priceMod'].plot(legend = True, label = 'Original', color='green') # train target data in green\n",
    "pred_result_actual_scale['Predicted'].plot(legend = True, label = 'Predicted', color='blue') # Predicted target data in blue\n",
    "test_unlog['priceMod'].plot(legend = True, label = 'Actual', color='red') # test target data in red"
   ]
  },
  {
   "cell_type": "code",
   "execution_count": 181,
   "id": "956a0038",
   "metadata": {},
   "outputs": [
    {
     "data": {
      "text/plain": [
       "Date\n",
       "2015-02-01        NaN\n",
       "2015-03-01     -25.13\n",
       "2015-04-01    -234.01\n",
       "2015-05-01    -402.13\n",
       "2015-06-01   -2360.47\n",
       "2015-07-01    -962.21\n",
       "2015-08-01     242.24\n",
       "2015-09-01     334.06\n",
       "2015-10-01     -21.90\n",
       "2015-11-01    -800.41\n",
       "2015-12-01    -463.87\n",
       "2016-01-01     106.62\n",
       "2016-02-01    -664.60\n",
       "dtype: float64"
      ]
     },
     "execution_count": 181,
     "metadata": {},
     "output_type": "execute_result"
    }
   ],
   "source": [
    "error = test_unlog['priceMod'] - pred_result_actual_scale['Predicted']\n",
    "error"
   ]
  },
  {
   "cell_type": "code",
   "execution_count": null,
   "id": "330a6c68",
   "metadata": {},
   "outputs": [],
   "source": []
  }
 ],
 "metadata": {
  "kernelspec": {
   "display_name": "Python 3",
   "language": "python",
   "name": "python3"
  },
  "language_info": {
   "codemirror_mode": {
    "name": "ipython",
    "version": 3
   },
   "file_extension": ".py",
   "mimetype": "text/x-python",
   "name": "python",
   "nbconvert_exporter": "python",
   "pygments_lexer": "ipython3",
   "version": "3.8.8"
  }
 },
 "nbformat": 4,
 "nbformat_minor": 5
}
