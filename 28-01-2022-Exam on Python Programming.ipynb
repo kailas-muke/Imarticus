{
 "cells": [
  {
   "cell_type": "markdown",
   "id": "bb5e75f4",
   "metadata": {},
   "source": [
    "   ### Question 1\n",
    "    Given below are a list of positive and negative words. Also a list of comments is provided. Segregate the comments based on positive and negative sentiments.\n",
    "    positive = ['good','awesome', 'best', 'nice'] \n",
    "    negative = ['worst','awful']\n",
    "    comments = ['He is a good boy', \n",
    "            'Food is the worst here',\n",
    "            'He is an awesome player',\n",
    "            'She is the best',\n",
    "            'This pizza tastes awful',\n",
    "            'These burger are really nice']"
   ]
  },
  {
   "cell_type": "markdown",
   "id": "e0f040a3",
   "metadata": {},
   "source": [
    "### Answer"
   ]
  },
  {
   "cell_type": "code",
   "execution_count": 1,
   "id": "b053f14c",
   "metadata": {},
   "outputs": [
    {
     "name": "stdout",
     "output_type": "stream",
     "text": [
      " Positive comments are:['He is a good boy', 'He is an awesome player', 'She is the best', 'These burger are really nice'] \n",
      " ------------------------ \n",
      " Negative comments are:['Food is the worst here', 'This pizza tastes awful']\n"
     ]
    }
   ],
   "source": [
    "positive = ['good','awesome', 'best', 'nice'] \n",
    "negative = ['worst','awful']\n",
    "comments = ['He is a good boy', \n",
    "        'Food is the worst here',\n",
    "        'He is an awesome player',\n",
    "        'She is the best',\n",
    "        'This pizza tastes awful',\n",
    "        'These burger are really nice']\n",
    "\n",
    "positive_comments = []\n",
    "negative_comments = []\n",
    "for comment in comments:\n",
    "    comm = comment.split(' ')\n",
    "    for i in comm:\n",
    "        if i in positive:\n",
    "            if comment in positive_comments:\n",
    "                pass\n",
    "            else:\n",
    "                positive_comments.append(comment)\n",
    "        elif  i in negative:\n",
    "            if comment in negative_comments:\n",
    "                pass\n",
    "            else:\n",
    "                negative_comments.append(comment)\n",
    "            \n",
    "print(f' Positive comments are:{positive_comments} \\n ------------------------ \\n Negative comments are:{negative_comments}')"
   ]
  },
  {
   "cell_type": "markdown",
   "id": "8f4af7b1",
   "metadata": {},
   "source": [
    "   ### Question 2. \n",
    "       Create a dictionary containing three lambda functions square, cube and square root.\n",
    "    E.g. dict = {'Square': function for squaring, 'Cube': function for cube, 'Squareroot': function for square root}\n",
    "       Pass the values (input from the user) to the functions in the dictionary respectively. Then add the outputs of each function and print it."
   ]
  },
  {
   "cell_type": "markdown",
   "id": "18759407",
   "metadata": {},
   "source": [
    "### Answer"
   ]
  },
  {
   "cell_type": "code",
   "execution_count": 2,
   "id": "d349f517",
   "metadata": {},
   "outputs": [
    {
     "name": "stdout",
     "output_type": "stream",
     "text": [
      "Enter your value. \n",
      "Your value is: 4\n",
      "Square of 4 is: 16\n",
      "Cube of 4 is: 64\n",
      "Squareroot of 4 is: 2.0\n"
     ]
    }
   ],
   "source": [
    "value = int(input(\"Enter your value. \\nYour value is: \"))\n",
    "dict_ = {'Square': lambda x:x*x, 'Cube': lambda x:x*x*x, 'Squareroot': lambda x:x**(1/2)}\n",
    "for key in dict_:\n",
    "    print(f'{key} of {value} is: {dict_[key](value)}')"
   ]
  },
  {
   "cell_type": "markdown",
   "id": "46562dae",
   "metadata": {},
   "source": [
    "   ### Question 3. \n",
    "      Find the fruits that are sour in taste from the tuple given below. \n",
    "      fruits = (('Lemon','sour'),\n",
    "        ('DragonFruit', 'Sweet'),\n",
    "        ('Grapes','soUr'),\n",
    "        ('Kiwi','Sour'),\n",
    "        ('Apples','sweet'),\n",
    "        ('Orange','sour'),\n",
    "        ('Blueberries','sweet'),\n",
    "        ('Limes','Sour'))\n",
    "    Output:Sour Fruits: ['Lemon', 'Grapes', 'Kiwi', 'Orange', 'Limes']"
   ]
  },
  {
   "cell_type": "markdown",
   "id": "cb3313a8",
   "metadata": {},
   "source": [
    "### Answer"
   ]
  },
  {
   "cell_type": "code",
   "execution_count": 3,
   "id": "7b8d58fe",
   "metadata": {},
   "outputs": [
    {
     "name": "stdout",
     "output_type": "stream",
     "text": [
      "Sour Fruits:['Lemon', 'Grapes', 'Kiwi', 'Orange', 'Limes']\n"
     ]
    }
   ],
   "source": [
    "fruits = (('Lemon','sour'),\n",
    "    ('DragonFruit', 'Sweet'),\n",
    "    ('Grapes','soUr'),\n",
    "    ('Kiwi','Sour'),\n",
    "    ('Apples','sweet'),\n",
    "    ('Orange','sour'),\n",
    "    ('Blueberries','sweet'),\n",
    "    ('Limes','Sour'))\n",
    "sour_fruits = []\n",
    "for i in fruits:\n",
    "    if i[1].lower()=='sour':\n",
    "        sour_fruits.append(i[0])\n",
    "\n",
    "print(f'Sour Fruits:{sour_fruits}')"
   ]
  },
  {
   "cell_type": "markdown",
   "id": "0f739b58",
   "metadata": {},
   "source": [
    "   ### Question 4. \n",
    "    A list of words is given. Find the words from the list that have their second character in uppercase.\n",
    "    ls = ['hello', 'Dear', 'hOw', 'ARe', 'You'] \n",
    "    Output: ['hOw', 'ARe']"
   ]
  },
  {
   "cell_type": "markdown",
   "id": "b585c530",
   "metadata": {},
   "source": [
    "### Answer"
   ]
  },
  {
   "cell_type": "code",
   "execution_count": 4,
   "id": "dce243a4",
   "metadata": {},
   "outputs": [
    {
     "name": "stdout",
     "output_type": "stream",
     "text": [
      "Output : ['hOw', 'ARe']\n"
     ]
    }
   ],
   "source": [
    "ls = ['hello', 'Dear', 'hOw', 'ARe', 'You']\n",
    "output = []\n",
    "for word in ls:\n",
    "    if word[1]==word[1].upper():\n",
    "        output.append(word)\n",
    "print(f'Output : {output}')"
   ]
  },
  {
   "cell_type": "markdown",
   "id": "d5bdeed9",
   "metadata": {},
   "source": [
    "   ### Question 5. \n",
    "    A dictionary of names and their weights on earth is given. Find how much they will weigh on the moon. (Use map and lambda functions)\n",
    "    Formula : wMoon = (wEarth * GMoon) / GEarth\n",
    "    # Weight of people in kg\n",
    "    WeightOnEarth = {'John':45, 'Shelly':65, 'Marry':35}\n",
    "    # Gravitational force on the Moon: 1.622 m/s2\n",
    "    GMoon = 1.622\n",
    "    # Gravitational force on the Earth: 9.81 m/s2 GEarth = 9.81\n",
    "    Output:\n",
    "    Weight on Moon: {'John': 7.44, 'Shelly': 10.75, 'Marry': 5.79}"
   ]
  },
  {
   "cell_type": "markdown",
   "id": "30762bca",
   "metadata": {},
   "source": [
    "### Answer"
   ]
  },
  {
   "cell_type": "code",
   "execution_count": 5,
   "id": "3c70aea0",
   "metadata": {},
   "outputs": [
    {
     "name": "stdout",
     "output_type": "stream",
     "text": [
      "Weight on Moon:{'John': 7.44, 'Shelly': 10.75, 'Marry': 5.79}\n"
     ]
    }
   ],
   "source": [
    "WeightOnEarth = {'John':45, 'Shelly':65, 'Marry':35}\n",
    "\n",
    "#Gravitational force on the Moon: 1.622 m/s2\n",
    "GMoon = 1.622\n",
    "\n",
    "# Gravitational force on the Earth: 9.81 m/s2 \n",
    "GEarth = 9.81\n",
    "\n",
    "wts = lambda wEarth:(wEarth * GMoon) / GEarth\n",
    "weights = {}\n",
    "for key in WeightOnEarth:\n",
    "    weights[key]=round(wts(WeightOnEarth[key]),2)\n",
    "print(f'Weight on Moon:{weights}')"
   ]
  },
  {
   "cell_type": "markdown",
   "id": "3d806fe9",
   "metadata": {},
   "source": [
    "   ### Question 6. \n",
    "    Write a program to fetch the words from the given list which have their first character in uppercase.\n",
    "    namesList = ['santa Maria', 'Hello World','Merry christmas', 'tHank You']\n",
    "    Output: ['Maria', 'Hello', 'World', 'Merry', 'You']"
   ]
  },
  {
   "cell_type": "markdown",
   "id": "f9f94735",
   "metadata": {},
   "source": [
    "### Answer"
   ]
  },
  {
   "cell_type": "code",
   "execution_count": 6,
   "id": "83fc31eb",
   "metadata": {},
   "outputs": [
    {
     "name": "stdout",
     "output_type": "stream",
     "text": [
      "Output : ['Maria', 'Hello', 'World', 'Merry', 'You']\n"
     ]
    }
   ],
   "source": [
    "namesList = ['santa Maria', 'Hello World','Merry christmas', 'tHank You']\n",
    "output = []\n",
    "for word in namesList:\n",
    "    word = word.split(' ')\n",
    "    for first in word:\n",
    "        if first==first.capitalize():\n",
    "            output.append(first)\n",
    "print(f'Output : {output}')"
   ]
  },
  {
   "cell_type": "markdown",
   "id": "4944d664",
   "metadata": {},
   "source": [
    "   ### Question 7. \n",
    "    A list containing multiple lists is given. Convert each inner list into sets and find the intersection of all the sets.\n",
    "    Use reduce function.\n",
    "    given_sets = [[1, 2, 3, 4, 8], [2, 3, 8, 5, 6], [8, 4, 5, 3, 7], [6, 9, 8, 3], [9,12, 3, 7, 6, 8, 4, 6, 21, 1, 6]]\n",
    "    Output: {8, 3}   "
   ]
  },
  {
   "cell_type": "markdown",
   "id": "cb581cf3",
   "metadata": {},
   "source": [
    "### Answer"
   ]
  },
  {
   "cell_type": "code",
   "execution_count": 42,
   "id": "48100f9c",
   "metadata": {},
   "outputs": [
    {
     "name": "stdout",
     "output_type": "stream",
     "text": [
      "Output: {8, 3}\n"
     ]
    }
   ],
   "source": [
    "given_sets = [[1, 2, 3, 4, 8], [2, 3, 8, 5, 6], [8, 4, 5, 3, 7], [6, 9, 8, 3], [9,12, 3, 7, 6, 8, 4, 6, 21, 1, 6]]\n",
    "\n",
    "new_sets = []\n",
    "for i in given_sets:\n",
    "    new_sets.append(set(i))\n",
    "print(f'Output: {new_sets[0].intersection(*new_sets)}')\n",
    "\n"
   ]
  },
  {
   "cell_type": "markdown",
   "id": "4dd04689",
   "metadata": {},
   "source": [
    "   ### Question 8. \n",
    "    Find the cumulative average of the list [9,8,7,6,5] using accumulate() and lambda function. \n",
    "    Input list: [9, 5, 7, 8, 5]"
   ]
  },
  {
   "cell_type": "markdown",
   "id": "90db933a",
   "metadata": {},
   "source": [
    "### Answer"
   ]
  },
  {
   "cell_type": "code",
   "execution_count": 12,
   "id": "53e47b2c",
   "metadata": {},
   "outputs": [],
   "source": [
    "from itertools import accumulate\n",
    "\n",
    "Input_list =  [9, 5, 7, 8, 5]\n",
    "def cumulative_average(lst):\n",
    "    y = len(lst)\n",
    "    cumm_sum = list(accumulate(map(int,Input_list)))[-1]\n",
    "    cumm_avg =  lambda cumm_sum:cumm_sum/y\n",
    "    return 'Cumulative average of the given list: {}'.format(cumm_avg(cumm_sum))"
   ]
  },
  {
   "cell_type": "code",
   "execution_count": 13,
   "id": "1dd83482",
   "metadata": {},
   "outputs": [
    {
     "data": {
      "text/plain": [
       "'Cumulative average of the given list: 6.8'"
      ]
     },
     "execution_count": 13,
     "metadata": {},
     "output_type": "execute_result"
    }
   ],
   "source": [
    "cumulative_average(Input_list)"
   ]
  },
  {
   "cell_type": "markdown",
   "id": "c037d025",
   "metadata": {},
   "source": [
    "   ### Question 9. \n",
    "    A list of words is given. Convert the words into uppercase. Use lambda and map functions.\n",
    "    lsbool = ['True','FALse','tRUe','tRue','False','faLse']\n",
    "    Output: ['TRUE', 'FALSE', 'TRUE', 'TRUE', 'FALSE', 'FALSE']   "
   ]
  },
  {
   "cell_type": "markdown",
   "id": "18c99317",
   "metadata": {},
   "source": [
    "### Answer"
   ]
  },
  {
   "cell_type": "code",
   "execution_count": 14,
   "id": "af99cff3",
   "metadata": {},
   "outputs": [
    {
     "data": {
      "text/plain": [
       "['TRUE', 'FALSE', 'TRUE', 'TRUE', 'FALSE', 'FALSE']"
      ]
     },
     "execution_count": 14,
     "metadata": {},
     "output_type": "execute_result"
    }
   ],
   "source": [
    "lsbool = ['True','FALse','tRUe','tRue','False','faLse']\n",
    "output = list( map(lambda x:x.upper(),lsbool))\n",
    "output"
   ]
  },
  {
   "cell_type": "markdown",
   "id": "4346d071",
   "metadata": {},
   "source": [
    "   ### Question 10. \n",
    "    A list of dates (dd-mm-yyyy) in the form of string is given below. Create a new list that stores years i.e. the 'yyyy' part from the dates in the given list.\n",
    "    datesList = ['17-12-1997','22-04-2011','01-05-1993','19-06-2020']\n",
    "    Output: ['1997','2011','1993','2020']   "
   ]
  },
  {
   "cell_type": "markdown",
   "id": "86fed70b",
   "metadata": {},
   "source": [
    "### Answer"
   ]
  },
  {
   "cell_type": "code",
   "execution_count": 15,
   "id": "a80fb536",
   "metadata": {},
   "outputs": [
    {
     "data": {
      "text/plain": [
       "['1997', '2011', '1993', '2020']"
      ]
     },
     "execution_count": 15,
     "metadata": {},
     "output_type": "execute_result"
    }
   ],
   "source": [
    "datesList = ['17-12-1997','22-04-2011','01-05-1993','19-06-2020']\n",
    "Output = [y.split('-')[-1] for y in datesList]\n",
    "Output"
   ]
  },
  {
   "cell_type": "code",
   "execution_count": null,
   "id": "f09e506f",
   "metadata": {},
   "outputs": [],
   "source": []
  }
 ],
 "metadata": {
  "kernelspec": {
   "display_name": "Python 3",
   "language": "python",
   "name": "python3"
  },
  "language_info": {
   "codemirror_mode": {
    "name": "ipython",
    "version": 3
   },
   "file_extension": ".py",
   "mimetype": "text/x-python",
   "name": "python",
   "nbconvert_exporter": "python",
   "pygments_lexer": "ipython3",
   "version": "3.8.8"
  }
 },
 "nbformat": 4,
 "nbformat_minor": 5
}
